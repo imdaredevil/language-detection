{
 "cells": [
  {
   "cell_type": "code",
   "execution_count": 1,
   "id": "2e771c7d",
   "metadata": {
    "ExecuteTime": {
     "end_time": "2021-07-21T14:37:13.403019Z",
     "start_time": "2021-07-21T14:37:11.526246Z"
    }
   },
   "outputs": [
    {
     "name": "stderr",
     "output_type": "stream",
     "text": [
      "2021-07-21 20:07:12.232781: I tensorflow/stream_executor/platform/default/dso_loader.cc:53] Successfully opened dynamic library libcudart.so.11.0\n"
     ]
    }
   ],
   "source": [
    "import pandas as pd \n",
    "import gc\n",
    "from sklearn.feature_extraction.text import CountVectorizer\n",
    "from sklearn.preprocessing import LabelEncoder\n",
    "from keras import Sequential \n",
    "from keras.layers import Dense, InputLayer\n",
    "from keras.utils.np_utils import to_categorical\n",
    "import tensorflow as tf\n",
    "tf.config.run_functions_eagerly(True)\n",
    "import numpy as np"
   ]
  },
  {
   "cell_type": "code",
   "execution_count": 2,
   "id": "f13823ea",
   "metadata": {
    "ExecuteTime": {
     "end_time": "2021-07-21T14:37:25.895966Z",
     "start_time": "2021-07-21T14:37:13.447332Z"
    }
   },
   "outputs": [],
   "source": [
    "df = pd.read_csv('./sentences.csv', sep='\\t', \n",
    "                            encoding='utf8', \n",
    "                            index_col=0,\n",
    "                            names=['lang','text'])"
   ]
  },
  {
   "cell_type": "code",
   "execution_count": 3,
   "id": "6e897eff",
   "metadata": {
    "ExecuteTime": {
     "end_time": "2021-07-21T14:37:25.967187Z",
     "start_time": "2021-07-21T14:37:25.964467Z"
    }
   },
   "outputs": [],
   "source": [
    "LanguageList = ['eng','fra', 'spa','ita','deu']\n",
    "ngramLength = 3\n",
    "maxFeatures = 500\n",
    "sentencePerLanguageForVocab = 1000\n",
    "sentencePerLanguageForDataSet = 50000\n",
    "validationSentences = 25000\n",
    "testSentences = 25000"
   ]
  },
  {
   "cell_type": "code",
   "execution_count": 4,
   "id": "731954c5",
   "metadata": {
    "ExecuteTime": {
     "end_time": "2021-07-21T14:37:29.704395Z",
     "start_time": "2021-07-21T14:37:26.024671Z"
    }
   },
   "outputs": [
    {
     "data": {
      "text/html": [
       "<div>\n",
       "<style scoped>\n",
       "    .dataframe tbody tr th:only-of-type {\n",
       "        vertical-align: middle;\n",
       "    }\n",
       "\n",
       "    .dataframe tbody tr th {\n",
       "        vertical-align: top;\n",
       "    }\n",
       "\n",
       "    .dataframe thead th {\n",
       "        text-align: right;\n",
       "    }\n",
       "</style>\n",
       "<table border=\"1\" class=\"dataframe\">\n",
       "  <thead>\n",
       "    <tr style=\"text-align: right;\">\n",
       "      <th></th>\n",
       "      <th>lang</th>\n",
       "      <th>text</th>\n",
       "    </tr>\n",
       "  </thead>\n",
       "  <tbody>\n",
       "    <tr>\n",
       "      <th>count</th>\n",
       "      <td>250000</td>\n",
       "      <td>250000</td>\n",
       "    </tr>\n",
       "    <tr>\n",
       "      <th>unique</th>\n",
       "      <td>5</td>\n",
       "      <td>249999</td>\n",
       "    </tr>\n",
       "    <tr>\n",
       "      <th>top</th>\n",
       "      <td>eng</td>\n",
       "      <td>Un momento...</td>\n",
       "    </tr>\n",
       "    <tr>\n",
       "      <th>freq</th>\n",
       "      <td>50000</td>\n",
       "      <td>2</td>\n",
       "    </tr>\n",
       "  </tbody>\n",
       "</table>\n",
       "</div>"
      ],
      "text/plain": [
       "          lang           text\n",
       "count   250000         250000\n",
       "unique       5         249999\n",
       "top        eng  Un momento...\n",
       "freq     50000              2"
      ]
     },
     "execution_count": 4,
     "metadata": {},
     "output_type": "execute_result"
    }
   ],
   "source": [
    "filtereddf = pd.DataFrame(columns=df.columns)\n",
    "for l in LanguageList:\n",
    "    filtereddf = pd.concat([filtereddf, \n",
    "                            df[df['lang'] == l].sample(\n",
    "                                sentencePerLanguageForDataSet)])\n",
    "\n",
    "filtereddf.describe()"
   ]
  },
  {
   "cell_type": "code",
   "execution_count": 5,
   "id": "d87f7133",
   "metadata": {
    "ExecuteTime": {
     "end_time": "2021-07-21T14:37:30.253817Z",
     "start_time": "2021-07-21T14:37:29.817025Z"
    }
   },
   "outputs": [
    {
     "data": {
      "text/html": [
       "<div>\n",
       "<style scoped>\n",
       "    .dataframe tbody tr th:only-of-type {\n",
       "        vertical-align: middle;\n",
       "    }\n",
       "\n",
       "    .dataframe tbody tr th {\n",
       "        vertical-align: top;\n",
       "    }\n",
       "\n",
       "    .dataframe thead th {\n",
       "        text-align: right;\n",
       "    }\n",
       "</style>\n",
       "<table border=\"1\" class=\"dataframe\">\n",
       "  <thead>\n",
       "    <tr style=\"text-align: right;\">\n",
       "      <th></th>\n",
       "      <th>lang</th>\n",
       "      <th>text</th>\n",
       "    </tr>\n",
       "  </thead>\n",
       "  <tbody>\n",
       "    <tr>\n",
       "      <th>count</th>\n",
       "      <td>200000</td>\n",
       "      <td>200000</td>\n",
       "    </tr>\n",
       "    <tr>\n",
       "      <th>unique</th>\n",
       "      <td>5</td>\n",
       "      <td>199999</td>\n",
       "    </tr>\n",
       "    <tr>\n",
       "      <th>top</th>\n",
       "      <td>deu</td>\n",
       "      <td>Un momento...</td>\n",
       "    </tr>\n",
       "    <tr>\n",
       "      <th>freq</th>\n",
       "      <td>40071</td>\n",
       "      <td>2</td>\n",
       "    </tr>\n",
       "  </tbody>\n",
       "</table>\n",
       "</div>"
      ],
      "text/plain": [
       "          lang           text\n",
       "count   200000         200000\n",
       "unique       5         199999\n",
       "top        deu  Un momento...\n",
       "freq     40071              2"
      ]
     },
     "execution_count": 5,
     "metadata": {},
     "output_type": "execute_result"
    }
   ],
   "source": [
    "filtereddf = filtereddf.sample(frac=1)\n",
    "validation_df = filtereddf[:validationSentences]\n",
    "test_df = filtereddf[validationSentences:validationSentences + testSentences]\n",
    "train_df = filtereddf[validationSentences + testSentences :]\n",
    "train_df.describe()"
   ]
  },
  {
   "cell_type": "code",
   "execution_count": 6,
   "id": "809876df",
   "metadata": {
    "ExecuteTime": {
     "end_time": "2021-07-21T14:37:30.693761Z",
     "start_time": "2021-07-21T14:37:30.400480Z"
    }
   },
   "outputs": [
    {
     "data": {
      "text/plain": [
       "0"
      ]
     },
     "execution_count": 6,
     "metadata": {},
     "output_type": "execute_result"
    }
   ],
   "source": [
    "del df,filtereddf\n",
    "gc.collect()"
   ]
  },
  {
   "cell_type": "code",
   "execution_count": 7,
   "id": "6a751eb5",
   "metadata": {
    "ExecuteTime": {
     "end_time": "2021-07-21T14:37:30.830297Z",
     "start_time": "2021-07-21T14:37:30.803317Z"
    }
   },
   "outputs": [],
   "source": [
    "def get_feature_vectors(dataset):\n",
    "    vectorizer = CountVectorizer(analyzer='char',ngram_range=(ngramLength,ngramLength),max_features=maxFeatures)\n",
    "    vectorizer.fit_transform(dataset)\n",
    "    trigrams = vectorizer.get_feature_names()\n",
    "    return trigrams"
   ]
  },
  {
   "cell_type": "code",
   "execution_count": 8,
   "id": "0850b4b0",
   "metadata": {
    "ExecuteTime": {
     "end_time": "2021-07-21T14:37:34.179640Z",
     "start_time": "2021-07-21T14:37:33.874223Z"
    }
   },
   "outputs": [
    {
     "name": "stdout",
     "output_type": "stream",
     "text": [
      "1466\n"
     ]
    }
   ],
   "source": [
    "vocab = set()\n",
    "for l in LanguageList:\n",
    "    currData = train_df[train_df['lang'] == l].sample(sentencePerLanguageForVocab)\n",
    "    currFeatures = get_feature_vectors(currData['text'].to_list())\n",
    "    vocab.update(currFeatures)\n",
    "print(len(vocab))"
   ]
  },
  {
   "cell_type": "code",
   "execution_count": 9,
   "id": "dea19b9a",
   "metadata": {
    "ExecuteTime": {
     "end_time": "2021-07-21T14:37:36.675776Z",
     "start_time": "2021-07-21T14:37:36.649059Z"
    }
   },
   "outputs": [
    {
     "data": {
      "text/plain": [
       "LabelEncoder()"
      ]
     },
     "execution_count": 9,
     "metadata": {},
     "output_type": "execute_result"
    }
   ],
   "source": [
    "word_vectorizer = CountVectorizer(analyzer='char',ngram_range=(ngramLength,ngramLength), vocabulary=vocab)\n",
    "feature_names = word_vectorizer.get_feature_names()\n",
    "langEncoder = LabelEncoder()\n",
    "langEncoder.fit(LanguageList)"
   ]
  },
  {
   "cell_type": "code",
   "execution_count": 10,
   "id": "a90f570d",
   "metadata": {
    "ExecuteTime": {
     "end_time": "2021-07-21T14:37:44.888397Z",
     "start_time": "2021-07-21T14:37:40.566017Z"
    }
   },
   "outputs": [],
   "source": [
    "train_x = word_vectorizer.transform(train_df['text'].to_list())\n",
    "min_value = train_x.min(axis=0).toarray()\n",
    "min_df = pd.Series(min_value[0], index=feature_names)\n",
    "max_value = train_x.max(axis=0).toarray()\n",
    "max_df = pd.Series(max_value[0], index=feature_names)\n",
    "del max_value,min_value,train_x"
   ]
  },
  {
   "cell_type": "code",
   "execution_count": 32,
   "id": "422b4853",
   "metadata": {
    "ExecuteTime": {
     "end_time": "2021-07-21T15:12:02.819571Z",
     "start_time": "2021-07-21T15:12:02.812771Z"
    }
   },
   "outputs": [],
   "source": [
    "def data_generator(dataset, batch_size):\n",
    "    noOfBatches = len(dataset)//batch_size\n",
    "    batches = np.array_split(dataset,noOfBatches)\n",
    "    i = 0\n",
    "    while True:\n",
    "        batch = batches[i]\n",
    "        i += 1\n",
    "        if i == noOfBatches:\n",
    "            i = 0\n",
    "        # getting x\n",
    "        x = word_vectorizer.transform(batch['text'].to_list())\n",
    "        xdf = pd.DataFrame(data=x.toarray(), columns=feature_names)\n",
    "        xdf = (xdf - min_df)/(max_df - min_df)\n",
    "        x_num = xdf.to_numpy()\n",
    "    \n",
    "        # getting y\n",
    "        y = batch['lang'].to_list()\n",
    "        y_enc = langEncoder.transform(y)\n",
    "        y_num = to_categorical(y_enc, num_classes=len(LanguageList))\n",
    "        yield x_num,y_num    "
   ]
  },
  {
   "cell_type": "code",
   "execution_count": 33,
   "id": "5c5a42f2",
   "metadata": {
    "ExecuteTime": {
     "end_time": "2021-07-21T15:12:11.544966Z",
     "start_time": "2021-07-21T15:12:06.022046Z"
    }
   },
   "outputs": [],
   "source": [
    "gen = iter(data_generator(train_df,3))\n",
    "tempx, tempy = next(gen)"
   ]
  },
  {
   "cell_type": "code",
   "execution_count": 34,
   "id": "ea5436e5",
   "metadata": {
    "ExecuteTime": {
     "end_time": "2021-07-21T15:12:11.720426Z",
     "start_time": "2021-07-21T15:12:11.715846Z"
    }
   },
   "outputs": [
    {
     "data": {
      "text/plain": [
       "(4, 5)"
      ]
     },
     "execution_count": 34,
     "metadata": {},
     "output_type": "execute_result"
    }
   ],
   "source": [
    "tempx.shape\n",
    "tempy.shape"
   ]
  },
  {
   "cell_type": "code",
   "execution_count": 35,
   "id": "f2c7f119",
   "metadata": {
    "ExecuteTime": {
     "end_time": "2021-07-21T15:12:14.741959Z",
     "start_time": "2021-07-21T15:12:14.733667Z"
    }
   },
   "outputs": [],
   "source": [
    "batch_size = 5"
   ]
  },
  {
   "cell_type": "code",
   "execution_count": 82,
   "id": "0c831d58",
   "metadata": {
    "ExecuteTime": {
     "end_time": "2021-07-21T17:41:54.152226Z",
     "start_time": "2021-07-21T17:41:54.141284Z"
    }
   },
   "outputs": [],
   "source": [
    "train_generator = data_generator(train_df, batch_size)\n",
    "val_generator = data_generator(validation_df, batch_size)\n",
    "test_generator = data_generator(test_df, batch_size)"
   ]
  },
  {
   "cell_type": "code",
   "execution_count": 83,
   "id": "d1d75ec6",
   "metadata": {
    "ExecuteTime": {
     "end_time": "2021-07-21T17:41:54.585224Z",
     "start_time": "2021-07-21T17:41:54.581484Z"
    }
   },
   "outputs": [],
   "source": [
    "train_steps_per_epoch = len(train_df)//batch_size\n",
    "val_steps_per_epoch = len(validation_df)//batch_size\n",
    "test_steps_per_epoch = len(test_df)//batch_size"
   ]
  },
  {
   "cell_type": "code",
   "execution_count": 47,
   "id": "9ca66b73",
   "metadata": {
    "ExecuteTime": {
     "end_time": "2021-07-21T16:03:59.496370Z",
     "start_time": "2021-07-21T16:03:59.449680Z"
    }
   },
   "outputs": [
    {
     "name": "stdout",
     "output_type": "stream",
     "text": [
      "Model: \"sequential_4\"\n",
      "_________________________________________________________________\n",
      "Layer (type)                 Output Shape              Param #   \n",
      "=================================================================\n",
      "dense_12 (Dense)             (None, 256)               375552    \n",
      "_________________________________________________________________\n",
      "dense_13 (Dense)             (None, 128)               32896     \n",
      "_________________________________________________________________\n",
      "dense_14 (Dense)             (None, 5)                 645       \n",
      "=================================================================\n",
      "Total params: 409,093\n",
      "Trainable params: 409,093\n",
      "Non-trainable params: 0\n",
      "_________________________________________________________________\n"
     ]
    }
   ],
   "source": [
    "model = Sequential()\n",
    "model.add(Dense(256,input_dim=len(vocab), activation='relu'))\n",
    "model.add(Dense(128, activation='relu'))\n",
    "model.add(Dense(len(LanguageList), activation='softmax'))\n",
    "model.summary()"
   ]
  },
  {
   "cell_type": "code",
   "execution_count": 50,
   "id": "899525b9",
   "metadata": {
    "ExecuteTime": {
     "end_time": "2021-07-21T16:04:09.685345Z",
     "start_time": "2021-07-21T16:04:09.654743Z"
    }
   },
   "outputs": [],
   "source": [
    "model.compile(optimizer='adam',loss='categorical_crossentropy', metrics=['accuracy'])"
   ]
  },
  {
   "cell_type": "code",
   "execution_count": 51,
   "id": "b7370bf7",
   "metadata": {
    "ExecuteTime": {
     "end_time": "2021-07-21T17:05:01.653873Z",
     "start_time": "2021-07-21T16:04:10.540512Z"
    }
   },
   "outputs": [
    {
     "name": "stdout",
     "output_type": "stream",
     "text": [
      "Epoch 1/4\n",
      "    6/40000 [..............................] - ETA: 15:06 - loss: 1.6053 - accuracy: 0.1517"
     ]
    },
    {
     "name": "stderr",
     "output_type": "stream",
     "text": [
      "/home/imdaredevil/.local/lib/python3.8/site-packages/tensorflow/python/data/ops/dataset_ops.py:3703: UserWarning: Even though the `tf.config.experimental_run_functions_eagerly` option is set, this option does not apply to tf.data functions. To force eager execution of tf.data functions, please use `tf.data.experimental.enable.debug_mode()`.\n",
      "  warnings.warn(\n"
     ]
    },
    {
     "name": "stdout",
     "output_type": "stream",
     "text": [
      "40000/40000 [==============================] - 918s 23ms/step - loss: 0.0755 - accuracy: 0.9745 - val_loss: 0.0336 - val_accuracy: 0.9899\n",
      "Epoch 2/4\n",
      "40000/40000 [==============================] - 888s 22ms/step - loss: 0.0229 - accuracy: 0.9925 - val_loss: 0.0321 - val_accuracy: 0.9918\n",
      "Epoch 3/4\n",
      "40000/40000 [==============================] - 925s 23ms/step - loss: 0.0140 - accuracy: 0.9955 - val_loss: 0.0565 - val_accuracy: 0.9912\n",
      "Epoch 4/4\n",
      "40000/40000 [==============================] - 917s 23ms/step - loss: 0.0092 - accuracy: 0.9971 - val_loss: 0.0432 - val_accuracy: 0.9932\n"
     ]
    },
    {
     "data": {
      "text/plain": [
       "<keras.callbacks.History at 0x7fcb46519640>"
      ]
     },
     "execution_count": 51,
     "metadata": {},
     "output_type": "execute_result"
    }
   ],
   "source": [
    "model.fit(train_generator,\n",
    "          steps_per_epoch=train_steps_per_epoch,\n",
    "          validation_data=val_generator,\n",
    "          validation_steps=val_steps_per_epoch,\n",
    "          epochs=4)"
   ]
  },
  {
   "cell_type": "code",
   "execution_count": 76,
   "id": "ee613cce",
   "metadata": {
    "ExecuteTime": {
     "end_time": "2021-07-21T17:36:02.624643Z",
     "start_time": "2021-07-21T17:36:02.615547Z"
    }
   },
   "outputs": [],
   "source": [
    "sentence = 'la casa de papel'"
   ]
  },
  {
   "cell_type": "code",
   "execution_count": 101,
   "id": "09a4b63d",
   "metadata": {
    "ExecuteTime": {
     "end_time": "2021-07-21T18:08:23.742645Z",
     "start_time": "2021-07-21T18:08:23.656363Z"
    }
   },
   "outputs": [
    {
     "name": "stdout",
     "output_type": "stream",
     "text": [
      "spa\n"
     ]
    },
    {
     "name": "stderr",
     "output_type": "stream",
     "text": [
      "/home/imdaredevil/.local/lib/python3.8/site-packages/tensorflow/python/data/ops/dataset_ops.py:3703: UserWarning: Even though the `tf.config.experimental_run_functions_eagerly` option is set, this option does not apply to tf.data functions. To force eager execution of tf.data functions, please use `tf.data.experimental.enable.debug_mode()`.\n",
      "  warnings.warn(\n"
     ]
    }
   ],
   "source": [
    "man_test_x = new_vectorizer.transform([sentence])\n",
    "man_test_df = pd.DataFrame(data=man_test_x.toarray(), columns=new_vectorizer.get_feature_names())\n",
    "man_test_df = (man_test_df - min_df)/(max_df - min_df)\n",
    "man_test_num = man_test_df.to_numpy()\n",
    "y = model.predict(man_test_num)\n",
    "label = np.argmax(y)\n",
    "prediction = newEncoder.inverse_transform([label])\n",
    "prediction = prediction[0]\n",
    "print(prediction)"
   ]
  },
  {
   "cell_type": "code",
   "execution_count": 57,
   "id": "63e4377e",
   "metadata": {
    "ExecuteTime": {
     "end_time": "2021-07-21T17:08:59.601099Z",
     "start_time": "2021-07-21T17:08:59.583697Z"
    }
   },
   "outputs": [
    {
     "data": {
      "text/plain": [
       "1"
      ]
     },
     "execution_count": 57,
     "metadata": {},
     "output_type": "execute_result"
    }
   ],
   "source": [
    "np.argmax(y)"
   ]
  },
  {
   "cell_type": "code",
   "execution_count": 58,
   "id": "038812f0",
   "metadata": {
    "ExecuteTime": {
     "end_time": "2021-07-21T17:09:06.686603Z",
     "start_time": "2021-07-21T17:09:06.670253Z"
    }
   },
   "outputs": [
    {
     "data": {
      "text/plain": [
       "array([[9.0647555e-14, 1.0000000e+00, 7.5185622e-17, 3.4363189e-13,\n",
       "        8.5411566e-17]], dtype=float32)"
      ]
     },
     "execution_count": 58,
     "metadata": {},
     "output_type": "execute_result"
    }
   ],
   "source": [
    "y"
   ]
  },
  {
   "cell_type": "code",
   "execution_count": 60,
   "id": "d077f60a",
   "metadata": {
    "ExecuteTime": {
     "end_time": "2021-07-21T17:10:17.121103Z",
     "start_time": "2021-07-21T17:10:17.113743Z"
    }
   },
   "outputs": [
    {
     "data": {
      "text/plain": [
       "array(['eng'], dtype='<U3')"
      ]
     },
     "execution_count": 60,
     "metadata": {},
     "output_type": "execute_result"
    }
   ],
   "source": [
    "langEncoder.inverse_transform([np.argmax(y)])"
   ]
  },
  {
   "cell_type": "code",
   "execution_count": 70,
   "id": "79d0e707",
   "metadata": {
    "ExecuteTime": {
     "end_time": "2021-07-21T17:22:37.447293Z",
     "start_time": "2021-07-21T17:22:33.244606Z"
    }
   },
   "outputs": [
    {
     "name": "stderr",
     "output_type": "stream",
     "text": [
      "2021-07-21 22:52:36.904989: W tensorflow/python/util/util.cc:348] Sets are not currently considered sequences, but this may change in the future, so consider avoiding using them.\n"
     ]
    },
    {
     "name": "stdout",
     "output_type": "stream",
     "text": [
      "INFO:tensorflow:Assets written to: ./models/basic-model.model/assets\n"
     ]
    }
   ],
   "source": [
    "model.save('./models/basic-model.model')"
   ]
  },
  {
   "cell_type": "code",
   "execution_count": 71,
   "id": "84733e35",
   "metadata": {
    "ExecuteTime": {
     "end_time": "2021-07-21T17:29:31.894470Z",
     "start_time": "2021-07-21T17:29:31.437898Z"
    }
   },
   "outputs": [],
   "source": [
    "from keras.models import load_model\n",
    "my_model = load_model('./models/basic-model.model')"
   ]
  },
  {
   "cell_type": "code",
   "execution_count": 85,
   "id": "e60b806d",
   "metadata": {
    "ExecuteTime": {
     "end_time": "2021-07-21T17:45:18.981671Z",
     "start_time": "2021-07-21T17:45:04.532441Z"
    }
   },
   "outputs": [
    {
     "name": "stdout",
     "output_type": "stream",
     "text": [
      "250\n",
      "0\n",
      "1\n",
      "2\n",
      "3\n",
      "4\n",
      "5\n",
      "6\n",
      "7\n",
      "8\n",
      "9\n",
      "10\n",
      "11\n",
      "12\n",
      "13\n",
      "14\n",
      "15\n",
      "16\n",
      "17\n",
      "18\n",
      "19\n",
      "20\n",
      "21\n",
      "22\n",
      "23\n",
      "24\n",
      "25\n",
      "26\n",
      "27\n",
      "28\n",
      "29\n",
      "30\n",
      "31\n",
      "32\n",
      "33\n",
      "34\n",
      "35\n",
      "36\n",
      "37\n",
      "38\n",
      "39\n",
      "40\n",
      "41\n",
      "42\n",
      "43\n",
      "44\n",
      "45\n",
      "46\n",
      "47\n",
      "48\n",
      "49\n",
      "50\n",
      "51\n",
      "52\n",
      "53\n",
      "54\n",
      "55\n",
      "56\n",
      "57\n",
      "58\n",
      "59\n",
      "60\n",
      "61\n",
      "62\n",
      "63\n",
      "64\n",
      "65\n",
      "66\n",
      "67\n",
      "68\n",
      "69\n",
      "70\n",
      "71\n",
      "72\n",
      "73\n",
      "74\n",
      "75\n",
      "76\n",
      "77\n",
      "78\n",
      "79\n",
      "80\n",
      "81\n",
      "82\n",
      "83\n",
      "84\n",
      "85\n",
      "86\n",
      "87\n",
      "88\n",
      "89\n",
      "90\n",
      "91\n",
      "92\n",
      "93\n",
      "94\n",
      "95\n",
      "96\n",
      "97\n",
      "98\n",
      "99\n",
      "100\n",
      "101\n",
      "102\n",
      "103\n",
      "104\n",
      "105\n",
      "106\n",
      "107\n",
      "108\n",
      "109\n",
      "110\n",
      "111\n",
      "112\n",
      "113\n",
      "114\n",
      "115\n",
      "116\n",
      "117\n",
      "118\n",
      "119\n",
      "120\n",
      "121\n",
      "122\n",
      "123\n",
      "124\n",
      "125\n",
      "126\n",
      "127\n",
      "128\n",
      "129\n",
      "130\n",
      "131\n",
      "132\n",
      "133\n",
      "134\n",
      "135\n",
      "136\n",
      "137\n",
      "138\n",
      "139\n",
      "140\n",
      "141\n",
      "142\n",
      "143\n",
      "144\n",
      "145\n",
      "146\n",
      "147\n",
      "148\n",
      "149\n",
      "150\n",
      "151\n",
      "152\n",
      "153\n",
      "154\n",
      "155\n",
      "156\n",
      "157\n",
      "158\n",
      "159\n",
      "160\n",
      "161\n",
      "162\n",
      "163\n",
      "164\n",
      "165\n",
      "166\n",
      "167\n",
      "168\n",
      "169\n",
      "170\n",
      "171\n",
      "172\n",
      "173\n",
      "174\n",
      "175\n",
      "176\n",
      "177\n",
      "178\n",
      "179\n",
      "180\n",
      "181\n",
      "182\n",
      "183\n",
      "184\n",
      "185\n",
      "186\n",
      "187\n",
      "188\n",
      "189\n",
      "190\n",
      "191\n",
      "192\n",
      "193\n",
      "194\n",
      "195\n",
      "196\n",
      "197\n",
      "198\n",
      "199\n",
      "200\n",
      "201\n",
      "202\n",
      "203\n",
      "204\n",
      "205\n",
      "206\n",
      "207\n",
      "208\n",
      "209\n",
      "210\n",
      "211\n",
      "212\n",
      "213\n",
      "214\n",
      "215\n",
      "216\n",
      "217\n",
      "218\n",
      "219\n",
      "220\n",
      "221\n",
      "222\n",
      "223\n",
      "224\n",
      "225\n",
      "226\n",
      "227\n",
      "228\n",
      "229\n",
      "230\n",
      "231\n",
      "232\n",
      "233\n",
      "234\n",
      "235\n",
      "236\n",
      "237\n",
      "238\n",
      "239\n",
      "240\n",
      "241\n",
      "242\n",
      "243\n",
      "244\n",
      "245\n",
      "246\n",
      "247\n",
      "248\n",
      "249\n"
     ]
    }
   ],
   "source": [
    "test_input, test_target = next(test_generator)\n",
    "test_generator = data_generator(test_df, 100)\n",
    "test_steps_per_epoch = len(test_df)//100\n",
    "print(test_steps_per_epoch)\n",
    "for i in range(test_steps_per_epoch):\n",
    "    print(i)\n",
    "    batch_x,batch_y = next(test_generator)\n",
    "    test_input = np.concatenate((test_input,batch_x), axis=0)\n",
    "    test_target = np.concatenate((test_target,batch_y), axis=0)"
   ]
  },
  {
   "cell_type": "code",
   "execution_count": 86,
   "id": "7d277676",
   "metadata": {
    "ExecuteTime": {
     "end_time": "2021-07-21T17:46:08.623087Z",
     "start_time": "2021-07-21T17:46:06.822833Z"
    }
   },
   "outputs": [
    {
     "name": "stderr",
     "output_type": "stream",
     "text": [
      "/home/imdaredevil/.local/lib/python3.8/site-packages/tensorflow/python/data/ops/dataset_ops.py:3703: UserWarning: Even though the `tf.config.experimental_run_functions_eagerly` option is set, this option does not apply to tf.data functions. To force eager execution of tf.data functions, please use `tf.data.experimental.enable.debug_mode()`.\n",
      "  warnings.warn(\n"
     ]
    }
   ],
   "source": [
    "test_predictions = my_model.predict(test_input)"
   ]
  },
  {
   "cell_type": "code",
   "execution_count": 90,
   "id": "ec7d0201",
   "metadata": {
    "ExecuteTime": {
     "end_time": "2021-07-21T17:55:15.885684Z",
     "start_time": "2021-07-21T17:55:15.878139Z"
    }
   },
   "outputs": [],
   "source": [
    "def model_output_to_lang(outputs):\n",
    "    labels = np.argmax(outputs,axis=1)\n",
    "    return langEncoder.inverse_transform(labels)"
   ]
  },
  {
   "cell_type": "code",
   "execution_count": 92,
   "id": "223c1531",
   "metadata": {
    "ExecuteTime": {
     "end_time": "2021-07-21T17:56:25.129864Z",
     "start_time": "2021-07-21T17:56:25.108731Z"
    }
   },
   "outputs": [],
   "source": [
    "test_target_lang=model_output_to_lang(test_target)\n",
    "test_prediction_lang=model_output_to_lang(test_predictions)"
   ]
  },
  {
   "cell_type": "code",
   "execution_count": 93,
   "id": "44463f01",
   "metadata": {
    "ExecuteTime": {
     "end_time": "2021-07-21T17:57:29.122235Z",
     "start_time": "2021-07-21T17:57:28.697421Z"
    }
   },
   "outputs": [],
   "source": [
    "from sklearn.metrics import confusion_matrix\n",
    "cf = confusion_matrix(test_target_lang,test_prediction_lang,labels=LanguageList)"
   ]
  },
  {
   "cell_type": "code",
   "execution_count": 94,
   "id": "35ee2a1e",
   "metadata": {
    "ExecuteTime": {
     "end_time": "2021-07-21T17:57:33.695946Z",
     "start_time": "2021-07-21T17:57:33.683978Z"
    }
   },
   "outputs": [
    {
     "data": {
      "text/plain": [
       "array([[5030,    6,    5,    3,    5],\n",
       "       [   0, 5018,   20,   11,    1],\n",
       "       [   5,   11, 4938,   37,    2],\n",
       "       [   5,   15,   59, 4958,    1],\n",
       "       [   7,    2,    7,    3, 4856]])"
      ]
     },
     "execution_count": 94,
     "metadata": {},
     "output_type": "execute_result"
    }
   ],
   "source": [
    "cf"
   ]
  },
  {
   "cell_type": "code",
   "execution_count": 96,
   "id": "ebb39d3b",
   "metadata": {
    "ExecuteTime": {
     "end_time": "2021-07-21T18:00:38.788697Z",
     "start_time": "2021-07-21T18:00:32.757063Z"
    }
   },
   "outputs": [
    {
     "name": "stderr",
     "output_type": "stream",
     "text": [
      "Matplotlib is building the font cache; this may take a moment.\n"
     ]
    }
   ],
   "source": [
    "import matplotlib.pyplot as plot\n",
    "import seaborn as sn"
   ]
  },
  {
   "cell_type": "code",
   "execution_count": 98,
   "id": "7264802a",
   "metadata": {
    "ExecuteTime": {
     "end_time": "2021-07-21T18:01:51.285181Z",
     "start_time": "2021-07-21T18:01:50.722580Z"
    }
   },
   "outputs": [
    {
     "data": {
      "text/plain": [
       "<AxesSubplot:>"
      ]
     },
     "execution_count": 98,
     "metadata": {},
     "output_type": "execute_result"
    },
    {
     "data": {
      "image/png": "[encoded data removed]",
      "text/plain": [
       "<Figure size 720x504 with 2 Axes>"
      ]
     },
     "metadata": {
      "needs_background": "light"
     },
     "output_type": "display_data"
    }
   ],
   "source": [
    "cf_df = pd.DataFrame(data=cf,columns=LanguageList,index=LanguageList)\n",
    "plot.figure(figsize = (10,7))\n",
    "sn.heatmap(cf_df, annot=True)"
   ]
  },
  {
   "cell_type": "code",
   "execution_count": 99,
   "id": "e71db305",
   "metadata": {
    "ExecuteTime": {
     "end_time": "2021-07-21T18:05:36.385886Z",
     "start_time": "2021-07-21T18:05:36.359826Z"
    }
   },
   "outputs": [],
   "source": [
    "import pickle\n",
    "pickle.dump(word_vectorizer,open('./models/basic-model-word-vectors.pkl','wb'))\n",
    "pickle.dump(langEncoder,open('./models/basic-model-label-encoders.pkl','wb'))"
   ]
  },
  {
   "cell_type": "code",
   "execution_count": 100,
   "id": "303d7241",
   "metadata": {
    "ExecuteTime": {
     "end_time": "2021-07-21T18:06:58.390853Z",
     "start_time": "2021-07-21T18:06:58.373281Z"
    }
   },
   "outputs": [],
   "source": [
    "new_vectorizer = pickle.load(open('./models/basic-model-word-vectors.pkl','rb'))\n",
    "newEncoder = pickle.load(open('./models/basic-model-label-encoders.pkl','rb'))"
   ]
  },
  {
   "cell_type": "code",
   "execution_count": null,
   "id": "48a67074",
   "metadata": {},
   "outputs": [],
   "source": []
  }
 ],
 "metadata": {
  "kernelspec": {
   "display_name": "Python 3 (ipykernel)",
   "language": "python",
   "name": "python3"
  },
  "language_info": {
   "codemirror_mode": {
    "name": "ipython",
    "version": 3
   },
   "file_extension": ".py",
   "mimetype": "text/x-python",
   "name": "python",
   "nbconvert_exporter": "python",
   "pygments_lexer": "ipython3",
   "version": "3.8.10"
  },
  "varInspector": {
   "cols": {
    "lenName": 16,
    "lenType": 16,
    "lenVar": 40
   },
   "kernels_config": {
    "python": {
     "delete_cmd_postfix": "",
     "delete_cmd_prefix": "del ",
     "library": "var_list.py",
     "varRefreshCmd": "print(var_dic_list())"
    },
    "r": {
     "delete_cmd_postfix": ") ",
     "delete_cmd_prefix": "rm(",
     "library": "var_list.r",
     "varRefreshCmd": "cat(var_dic_list()) "
    }
   },
   "types_to_exclude": [
    "module",
    "function",
    "builtin_function_or_method",
    "instance",
    "_Feature"
   ],
   "window_display": false
  }
 },
 "nbformat": 4,
 "nbformat_minor": 5
}
