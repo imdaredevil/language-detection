{
 "cells": [
  {
   "cell_type": "code",
   "execution_count": 1,
   "id": "2e771c7d",
   "metadata": {
    "ExecuteTime": {
     "end_time": "2021-07-24T13:53:05.052850Z",
     "start_time": "2021-07-24T13:53:03.155985Z"
    }
   },
   "outputs": [
    {
     "name": "stderr",
     "output_type": "stream",
     "text": [
      "2021-07-24 19:23:03.920169: I tensorflow/stream_executor/platform/default/dso_loader.cc:53] Successfully opened dynamic library libcudart.so.11.0\n"
     ]
    }
   ],
   "source": [
    "import pandas as pd \n",
    "import gc\n",
    "from sklearn.feature_extraction.text import CountVectorizer\n",
    "from sklearn.preprocessing import LabelEncoder\n",
    "from keras import Sequential \n",
    "from keras.layers import Dense, InputLayer\n",
    "from keras.utils.np_utils import to_categorical\n",
    "import os\n",
    "os.environ['TF_CPP_MIN_LOG_LEVEL'] = '3' \n",
    "import tensorflow as tf\n",
    "tf.config.run_functions_eagerly(True)\n",
    "import numpy as np\n",
    "import pickle"
   ]
  },
  {
   "cell_type": "code",
   "execution_count": 2,
   "id": "f13823ea",
   "metadata": {
    "ExecuteTime": {
     "end_time": "2021-07-24T13:53:05.763057Z",
     "start_time": "2021-07-24T13:53:05.078210Z"
    }
   },
   "outputs": [],
   "source": [
    "df = pd.read_csv('./dataset/shortened-sentences.csv',index_col=0,names=['lang','text'])\n",
    "# df = pd.read_csv('./dataset/sentences.csv', sep='\\t', \n",
    "#                             encoding='utf8', \n",
    "#                             index_col=0,\n",
    "#                             names=['lang','text'])"
   ]
  },
  {
   "cell_type": "code",
   "execution_count": 4,
   "id": "6e897eff",
   "metadata": {
    "ExecuteTime": {
     "end_time": "2021-07-24T13:53:11.874616Z",
     "start_time": "2021-07-24T13:53:11.855145Z"
    }
   },
   "outputs": [],
   "source": [
    "LanguageList = ['eng','fra', 'spa','ita','deu']\n",
    "ngramLength = 3\n",
    "maxFeatures = 500\n",
    "sentencePerLanguageForVocab = 1000\n",
    "sentencePerLanguageForDataSet = 50000\n",
    "validationSentences = 25000\n",
    "testSentences = 25000"
   ]
  },
  {
   "cell_type": "code",
   "execution_count": 5,
   "id": "731954c5",
   "metadata": {
    "ExecuteTime": {
     "end_time": "2021-07-24T13:53:12.622525Z",
     "start_time": "2021-07-24T13:53:11.940764Z"
    }
   },
   "outputs": [
    {
     "data": {
      "text/html": [
       "<div>\n",
       "<style scoped>\n",
       "    .dataframe tbody tr th:only-of-type {\n",
       "        vertical-align: middle;\n",
       "    }\n",
       "\n",
       "    .dataframe tbody tr th {\n",
       "        vertical-align: top;\n",
       "    }\n",
       "\n",
       "    .dataframe thead th {\n",
       "        text-align: right;\n",
       "    }\n",
       "</style>\n",
       "<table border=\"1\" class=\"dataframe\">\n",
       "  <thead>\n",
       "    <tr style=\"text-align: right;\">\n",
       "      <th></th>\n",
       "      <th>lang</th>\n",
       "      <th>text</th>\n",
       "    </tr>\n",
       "  </thead>\n",
       "  <tbody>\n",
       "    <tr>\n",
       "      <th>count</th>\n",
       "      <td>250000</td>\n",
       "      <td>250000</td>\n",
       "    </tr>\n",
       "    <tr>\n",
       "      <th>unique</th>\n",
       "      <td>5</td>\n",
       "      <td>250000</td>\n",
       "    </tr>\n",
       "    <tr>\n",
       "      <th>top</th>\n",
       "      <td>deu</td>\n",
       "      <td>Il nemico ha fatto saltare in aria il ponte.</td>\n",
       "    </tr>\n",
       "    <tr>\n",
       "      <th>freq</th>\n",
       "      <td>50000</td>\n",
       "      <td>1</td>\n",
       "    </tr>\n",
       "  </tbody>\n",
       "</table>\n",
       "</div>"
      ],
      "text/plain": [
       "          lang                                           text\n",
       "count   250000                                         250000\n",
       "unique       5                                         250000\n",
       "top        deu   Il nemico ha fatto saltare in aria il ponte.\n",
       "freq     50000                                              1"
      ]
     },
     "execution_count": 5,
     "metadata": {},
     "output_type": "execute_result"
    }
   ],
   "source": [
    "filtereddf = pd.DataFrame(columns=df.columns)\n",
    "for l in LanguageList:\n",
    "    filtereddf = pd.concat([filtereddf, \n",
    "                            df[df['lang'] == l].sample(\n",
    "                                sentencePerLanguageForDataSet)])\n",
    "\n",
    "filtereddf.describe()"
   ]
  },
  {
   "cell_type": "code",
   "execution_count": 6,
   "id": "d87f7133",
   "metadata": {
    "ExecuteTime": {
     "end_time": "2021-07-24T13:53:21.482055Z",
     "start_time": "2021-07-24T13:53:21.111651Z"
    }
   },
   "outputs": [
    {
     "name": "stdout",
     "output_type": "stream",
     "text": [
      "50000\n"
     ]
    },
    {
     "data": {
      "text/html": [
       "<div>\n",
       "<style scoped>\n",
       "    .dataframe tbody tr th:only-of-type {\n",
       "        vertical-align: middle;\n",
       "    }\n",
       "\n",
       "    .dataframe tbody tr th {\n",
       "        vertical-align: top;\n",
       "    }\n",
       "\n",
       "    .dataframe thead th {\n",
       "        text-align: right;\n",
       "    }\n",
       "</style>\n",
       "<table border=\"1\" class=\"dataframe\">\n",
       "  <thead>\n",
       "    <tr style=\"text-align: right;\">\n",
       "      <th></th>\n",
       "      <th>lang</th>\n",
       "      <th>text</th>\n",
       "    </tr>\n",
       "  </thead>\n",
       "  <tbody>\n",
       "    <tr>\n",
       "      <th>count</th>\n",
       "      <td>200000</td>\n",
       "      <td>200000</td>\n",
       "    </tr>\n",
       "    <tr>\n",
       "      <th>unique</th>\n",
       "      <td>5</td>\n",
       "      <td>200000</td>\n",
       "    </tr>\n",
       "    <tr>\n",
       "      <th>top</th>\n",
       "      <td>fra</td>\n",
       "      <td>Il nemico ha fatto saltare in aria il ponte.</td>\n",
       "    </tr>\n",
       "    <tr>\n",
       "      <th>freq</th>\n",
       "      <td>40201</td>\n",
       "      <td>1</td>\n",
       "    </tr>\n",
       "  </tbody>\n",
       "</table>\n",
       "</div>"
      ],
      "text/plain": [
       "          lang                                           text\n",
       "count   200000                                         200000\n",
       "unique       5                                         200000\n",
       "top        fra   Il nemico ha fatto saltare in aria il ponte.\n",
       "freq     40201                                              1"
      ]
     },
     "execution_count": 6,
     "metadata": {},
     "output_type": "execute_result"
    }
   ],
   "source": [
    "filtereddf = filtereddf.sample(frac=1)\n",
    "filtereddf.index = [i for i in range(len(filtereddf))]\n",
    "validation_df = filtereddf[:validationSentences]\n",
    "print(validationSentences + testSentences)\n",
    "test_df = filtereddf[validationSentences:int(validationSentences + testSentences)]\n",
    "train_df = filtereddf[int(validationSentences + testSentences):]\n",
    "train_df.describe()"
   ]
  },
  {
   "cell_type": "code",
   "execution_count": 7,
   "id": "809876df",
   "metadata": {
    "ExecuteTime": {
     "end_time": "2021-07-24T13:53:26.316070Z",
     "start_time": "2021-07-24T13:53:26.211256Z"
    }
   },
   "outputs": [
    {
     "data": {
      "text/plain": [
       "0"
      ]
     },
     "execution_count": 7,
     "metadata": {},
     "output_type": "execute_result"
    }
   ],
   "source": [
    "del df,filtereddf\n",
    "gc.collect()"
   ]
  },
  {
   "cell_type": "code",
   "execution_count": 8,
   "id": "6a751eb5",
   "metadata": {
    "ExecuteTime": {
     "end_time": "2021-07-24T13:53:28.342752Z",
     "start_time": "2021-07-24T13:53:28.324506Z"
    }
   },
   "outputs": [],
   "source": [
    "def get_feature_vectors(dataset):\n",
    "    vectorizer = CountVectorizer(analyzer='char',ngram_range=(ngramLength,ngramLength),max_features=maxFeatures)\n",
    "    vectorizer.fit_transform(dataset)\n",
    "    trigrams = vectorizer.get_feature_names()\n",
    "    return trigrams"
   ]
  },
  {
   "cell_type": "code",
   "execution_count": 9,
   "id": "0850b4b0",
   "metadata": {
    "ExecuteTime": {
     "end_time": "2021-07-24T13:53:30.876615Z",
     "start_time": "2021-07-24T13:53:30.588557Z"
    }
   },
   "outputs": [
    {
     "name": "stdout",
     "output_type": "stream",
     "text": [
      "1487\n"
     ]
    }
   ],
   "source": [
    "vocab = set()\n",
    "for l in LanguageList:\n",
    "    currData = train_df[train_df['lang'] == l].sample(sentencePerLanguageForVocab)\n",
    "    currFeatures = get_feature_vectors(currData['text'].to_list())\n",
    "    vocab.update(currFeatures)\n",
    "print(len(vocab))"
   ]
  },
  {
   "cell_type": "code",
   "execution_count": 10,
   "id": "dea19b9a",
   "metadata": {
    "ExecuteTime": {
     "end_time": "2021-07-24T13:53:32.251116Z",
     "start_time": "2021-07-24T13:53:32.225154Z"
    }
   },
   "outputs": [
    {
     "data": {
      "text/plain": [
       "LabelEncoder()"
      ]
     },
     "execution_count": 10,
     "metadata": {},
     "output_type": "execute_result"
    }
   ],
   "source": [
    "word_vectorizer = CountVectorizer(analyzer='char',ngram_range=(ngramLength,ngramLength), vocabulary=vocab)\n",
    "feature_names = word_vectorizer.get_feature_names()\n",
    "langEncoder = LabelEncoder()\n",
    "langEncoder.fit(LanguageList)"
   ]
  },
  {
   "cell_type": "code",
   "execution_count": 11,
   "id": "a90f570d",
   "metadata": {
    "ExecuteTime": {
     "end_time": "2021-07-24T13:53:38.812114Z",
     "start_time": "2021-07-24T13:53:35.100160Z"
    }
   },
   "outputs": [],
   "source": [
    "train_x = word_vectorizer.transform(train_df['text'].to_list())\n",
    "min_value = train_x.min(axis=0).toarray()\n",
    "min_df = pd.Series(min_value[0], index=feature_names)\n",
    "max_value = train_x.max(axis=0).toarray()\n",
    "max_df = pd.Series(max_value[0], index=feature_names)\n",
    "del max_value,min_value,train_x"
   ]
  },
  {
   "cell_type": "code",
   "execution_count": 12,
   "id": "422b4853",
   "metadata": {
    "ExecuteTime": {
     "end_time": "2021-07-24T13:53:38.909586Z",
     "start_time": "2021-07-24T13:53:38.900466Z"
    }
   },
   "outputs": [],
   "source": [
    "def data_generator(dataset, batch_size):\n",
    "    print(len(dataset))\n",
    "    noOfBatches = len(dataset)//batch_size\n",
    "    print(noOfBatches)\n",
    "    batches = np.array_split(dataset,noOfBatches)\n",
    "    i = 0\n",
    "    while True:\n",
    "        batch = batches[i]\n",
    "        i += 1\n",
    "        if i == noOfBatches:\n",
    "            i = 0\n",
    "        # getting x\n",
    "        x = word_vectorizer.transform(batch['text'].to_list())\n",
    "        xdf = pd.DataFrame(data=x.toarray(), columns=feature_names)\n",
    "        xdf = (xdf - min_df)/(max_df - min_df)\n",
    "        x_num = xdf.to_numpy()\n",
    "    \n",
    "        # getting y\n",
    "        y = batch['lang'].to_list()\n",
    "        y_enc = langEncoder.transform(y)\n",
    "        y_num = to_categorical(y_enc, num_classes=len(LanguageList))\n",
    "        yield x_num,y_num    "
   ]
  },
  {
   "cell_type": "code",
   "execution_count": 13,
   "id": "5c5a42f2",
   "metadata": {
    "ExecuteTime": {
     "end_time": "2021-07-24T13:53:45.797112Z",
     "start_time": "2021-07-24T13:53:41.042276Z"
    }
   },
   "outputs": [
    {
     "name": "stdout",
     "output_type": "stream",
     "text": [
      "200000\n",
      "66666\n",
      "(4, 1487)\n",
      "(4, 5)\n"
     ]
    }
   ],
   "source": [
    "# testing generator\n",
    "gen = iter(data_generator(train_df,3))\n",
    "tempx, tempy = next(gen)\n",
    "print(tempx.shape)\n",
    "print(tempy.shape)"
   ]
  },
  {
   "cell_type": "code",
   "execution_count": 14,
   "id": "989dc31a",
   "metadata": {
    "ExecuteTime": {
     "end_time": "2021-07-24T13:53:46.022994Z",
     "start_time": "2021-07-24T13:53:46.017301Z"
    }
   },
   "outputs": [],
   "source": [
    "batch_size = 5"
   ]
  },
  {
   "cell_type": "code",
   "execution_count": 15,
   "id": "0c831d58",
   "metadata": {
    "ExecuteTime": {
     "end_time": "2021-07-24T13:53:49.533069Z",
     "start_time": "2021-07-24T13:53:49.517767Z"
    }
   },
   "outputs": [],
   "source": [
    "train_generator = data_generator(train_df, batch_size)\n",
    "val_generator = data_generator(validation_df, batch_size)\n",
    "test_generator = data_generator(test_df, batch_size)"
   ]
  },
  {
   "cell_type": "code",
   "execution_count": 16,
   "id": "b8f0383f",
   "metadata": {
    "ExecuteTime": {
     "end_time": "2021-07-24T13:53:51.767265Z",
     "start_time": "2021-07-24T13:53:51.755404Z"
    }
   },
   "outputs": [],
   "source": [
    "train_steps_per_epoch = len(train_df)//batch_size\n",
    "val_steps_per_epoch = len(validation_df)//batch_size\n",
    "test_steps_per_epoch = len(test_df)//batch_size"
   ]
  },
  {
   "cell_type": "code",
   "execution_count": 17,
   "id": "9ca66b73",
   "metadata": {
    "ExecuteTime": {
     "end_time": "2021-07-24T13:53:55.294077Z",
     "start_time": "2021-07-24T13:53:54.283468Z"
    }
   },
   "outputs": [
    {
     "name": "stderr",
     "output_type": "stream",
     "text": [
      "2021-07-24 19:23:54.308632: I tensorflow/stream_executor/platform/default/dso_loader.cc:53] Successfully opened dynamic library libcuda.so.1\n",
      "2021-07-24 19:23:54.381850: I tensorflow/stream_executor/cuda/cuda_gpu_executor.cc:937] successful NUMA node read from SysFS had negative value (-1), but there must be at least one NUMA node, so returning NUMA node zero\n",
      "2021-07-24 19:23:54.382931: I tensorflow/core/common_runtime/gpu/gpu_device.cc:1733] Found device 0 with properties: \n",
      "pciBusID: 0000:01:00.0 name: NVIDIA GeForce 940MX computeCapability: 5.0\n",
      "coreClock: 1.2415GHz coreCount: 3 deviceMemorySize: 3.95GiB deviceMemoryBandwidth: 13.41GiB/s\n",
      "2021-07-24 19:23:54.383010: I tensorflow/stream_executor/platform/default/dso_loader.cc:53] Successfully opened dynamic library libcudart.so.11.0\n",
      "2021-07-24 19:23:54.390310: I tensorflow/stream_executor/platform/default/dso_loader.cc:53] Successfully opened dynamic library libcublas.so.11\n",
      "2021-07-24 19:23:54.390413: I tensorflow/stream_executor/platform/default/dso_loader.cc:53] Successfully opened dynamic library libcublasLt.so.11\n",
      "2021-07-24 19:23:54.391830: I tensorflow/stream_executor/platform/default/dso_loader.cc:53] Successfully opened dynamic library libcufft.so.10\n",
      "2021-07-24 19:23:54.392262: I tensorflow/stream_executor/platform/default/dso_loader.cc:53] Successfully opened dynamic library libcurand.so.10\n",
      "2021-07-24 19:23:54.393066: I tensorflow/stream_executor/platform/default/dso_loader.cc:53] Successfully opened dynamic library libcusolver.so.11\n",
      "2021-07-24 19:23:54.394276: I tensorflow/stream_executor/platform/default/dso_loader.cc:53] Successfully opened dynamic library libcusparse.so.11\n",
      "2021-07-24 19:23:54.394567: I tensorflow/stream_executor/platform/default/dso_loader.cc:53] Successfully opened dynamic library libcudnn.so.8\n",
      "2021-07-24 19:23:54.394737: I tensorflow/stream_executor/cuda/cuda_gpu_executor.cc:937] successful NUMA node read from SysFS had negative value (-1), but there must be at least one NUMA node, so returning NUMA node zero\n",
      "2021-07-24 19:23:54.395635: I tensorflow/stream_executor/cuda/cuda_gpu_executor.cc:937] successful NUMA node read from SysFS had negative value (-1), but there must be at least one NUMA node, so returning NUMA node zero\n",
      "2021-07-24 19:23:54.396396: I tensorflow/core/common_runtime/gpu/gpu_device.cc:1871] Adding visible gpu devices: 0\n",
      "2021-07-24 19:23:54.397221: I tensorflow/core/platform/cpu_feature_guard.cc:142] This TensorFlow binary is optimized with oneAPI Deep Neural Network Library (oneDNN) to use the following CPU instructions in performance-critical operations:  AVX2 FMA\n",
      "To enable them in other operations, rebuild TensorFlow with the appropriate compiler flags.\n",
      "2021-07-24 19:23:54.397689: I tensorflow/stream_executor/cuda/cuda_gpu_executor.cc:937] successful NUMA node read from SysFS had negative value (-1), but there must be at least one NUMA node, so returning NUMA node zero\n",
      "2021-07-24 19:23:54.398473: I tensorflow/core/common_runtime/gpu/gpu_device.cc:1733] Found device 0 with properties: \n",
      "pciBusID: 0000:01:00.0 name: NVIDIA GeForce 940MX computeCapability: 5.0\n",
      "coreClock: 1.2415GHz coreCount: 3 deviceMemorySize: 3.95GiB deviceMemoryBandwidth: 13.41GiB/s\n",
      "2021-07-24 19:23:54.398604: I tensorflow/stream_executor/cuda/cuda_gpu_executor.cc:937] successful NUMA node read from SysFS had negative value (-1), but there must be at least one NUMA node, so returning NUMA node zero\n",
      "2021-07-24 19:23:54.399391: I tensorflow/stream_executor/cuda/cuda_gpu_executor.cc:937] successful NUMA node read from SysFS had negative value (-1), but there must be at least one NUMA node, so returning NUMA node zero\n",
      "2021-07-24 19:23:54.400083: I tensorflow/core/common_runtime/gpu/gpu_device.cc:1871] Adding visible gpu devices: 0\n",
      "2021-07-24 19:23:54.400152: I tensorflow/stream_executor/platform/default/dso_loader.cc:53] Successfully opened dynamic library libcudart.so.11.0\n",
      "2021-07-24 19:23:54.926486: I tensorflow/core/common_runtime/gpu/gpu_device.cc:1258] Device interconnect StreamExecutor with strength 1 edge matrix:\n",
      "2021-07-24 19:23:54.926520: I tensorflow/core/common_runtime/gpu/gpu_device.cc:1264]      0 \n",
      "2021-07-24 19:23:54.926528: I tensorflow/core/common_runtime/gpu/gpu_device.cc:1277] 0:   N \n",
      "2021-07-24 19:23:54.926723: I tensorflow/stream_executor/cuda/cuda_gpu_executor.cc:937] successful NUMA node read from SysFS had negative value (-1), but there must be at least one NUMA node, so returning NUMA node zero\n",
      "2021-07-24 19:23:54.927132: I tensorflow/stream_executor/cuda/cuda_gpu_executor.cc:937] successful NUMA node read from SysFS had negative value (-1), but there must be at least one NUMA node, so returning NUMA node zero\n",
      "2021-07-24 19:23:54.927482: I tensorflow/stream_executor/cuda/cuda_gpu_executor.cc:937] successful NUMA node read from SysFS had negative value (-1), but there must be at least one NUMA node, so returning NUMA node zero\n",
      "2021-07-24 19:23:54.927814: I tensorflow/core/common_runtime/gpu/gpu_device.cc:1418] Created TensorFlow device (/job:localhost/replica:0/task:0/device:GPU:0 with 3274 MB memory) -> physical GPU (device: 0, name: NVIDIA GeForce 940MX, pci bus id: 0000:01:00.0, compute capability: 5.0)\n"
     ]
    },
    {
     "name": "stdout",
     "output_type": "stream",
     "text": [
      "Model: \"sequential\"\n",
      "_________________________________________________________________\n",
      "Layer (type)                 Output Shape              Param #   \n",
      "=================================================================\n",
      "dense (Dense)                (None, 256)               380928    \n",
      "_________________________________________________________________\n",
      "dense_1 (Dense)              (None, 128)               32896     \n",
      "_________________________________________________________________\n",
      "dense_2 (Dense)              (None, 5)                 645       \n",
      "=================================================================\n",
      "Total params: 414,469\n",
      "Trainable params: 414,469\n",
      "Non-trainable params: 0\n",
      "_________________________________________________________________\n"
     ]
    }
   ],
   "source": [
    "model = Sequential()\n",
    "model.add(Dense(256,input_dim=len(vocab), activation='relu'))\n",
    "model.add(Dense(128, activation='relu'))\n",
    "model.add(Dense(len(LanguageList), activation='softmax'))\n",
    "model.summary()"
   ]
  },
  {
   "cell_type": "code",
   "execution_count": 18,
   "id": "899525b9",
   "metadata": {
    "ExecuteTime": {
     "end_time": "2021-07-24T13:53:59.460838Z",
     "start_time": "2021-07-24T13:53:59.423756Z"
    }
   },
   "outputs": [],
   "source": [
    "model.compile(optimizer='adam',loss='categorical_crossentropy', metrics=['accuracy'])"
   ]
  },
  {
   "cell_type": "code",
   "execution_count": 19,
   "id": "b7370bf7",
   "metadata": {
    "ExecuteTime": {
     "end_time": "2021-07-24T14:53:57.932924Z",
     "start_time": "2021-07-24T13:54:01.626923Z"
    }
   },
   "outputs": [
    {
     "name": "stdout",
     "output_type": "stream",
     "text": [
      "200000\n",
      "40000\n"
     ]
    },
    {
     "name": "stderr",
     "output_type": "stream",
     "text": [
      "/home/imdaredevil/.local/lib/python3.8/site-packages/tensorflow/python/data/ops/dataset_ops.py:3703: UserWarning: Even though the `tf.config.experimental_run_functions_eagerly` option is set, this option does not apply to tf.data functions. To force eager execution of tf.data functions, please use `tf.data.experimental.enable.debug_mode()`.\n",
      "  warnings.warn(\n",
      "2021-07-24 19:24:04.303102: I tensorflow/compiler/mlir/mlir_graph_optimization_pass.cc:176] None of the MLIR Optimization Passes are enabled (registered 2)\n",
      "2021-07-24 19:24:04.320685: I tensorflow/core/platform/profile_utils/cpu_utils.cc:114] CPU Frequency: 2699905000 Hz\n",
      "2021-07-24 19:24:04.341630: I tensorflow/stream_executor/platform/default/dso_loader.cc:53] Successfully opened dynamic library libcublas.so.11\n"
     ]
    },
    {
     "name": "stdout",
     "output_type": "stream",
     "text": [
      "Epoch 1/4\n"
     ]
    },
    {
     "name": "stderr",
     "output_type": "stream",
     "text": [
      "2021-07-24 19:24:04.695284: I tensorflow/stream_executor/platform/default/dso_loader.cc:53] Successfully opened dynamic library libcublasLt.so.11\n"
     ]
    },
    {
     "name": "stdout",
     "output_type": "stream",
     "text": [
      "40000/40000 [==============================] - ETA: 0s - loss: 0.1110 - accuracy: 0.961725000\n",
      "5000\n",
      "40000/40000 [==============================] - 901s 22ms/step - loss: 0.1110 - accuracy: 0.9617 - val_loss: 0.0657 - val_accuracy: 0.9757\n",
      "Epoch 2/4\n",
      "40000/40000 [==============================] - 928s 23ms/step - loss: 0.0552 - accuracy: 0.9798 - val_loss: 0.0678 - val_accuracy: 0.9766\n",
      "Epoch 3/4\n",
      "40000/40000 [==============================] - 889s 22ms/step - loss: 0.0424 - accuracy: 0.9849 - val_loss: 0.0886 - val_accuracy: 0.9762\n",
      "Epoch 4/4\n",
      "40000/40000 [==============================] - 875s 22ms/step - loss: 0.0331 - accuracy: 0.9885 - val_loss: 0.1025 - val_accuracy: 0.9770\n"
     ]
    },
    {
     "data": {
      "text/plain": [
       "<keras.callbacks.History at 0x7f99d3d91610>"
      ]
     },
     "execution_count": 19,
     "metadata": {},
     "output_type": "execute_result"
    }
   ],
   "source": [
    "model.fit(train_generator,\n",
    "          steps_per_epoch=train_steps_per_epoch,\n",
    "          validation_data=val_generator,\n",
    "          validation_steps=val_steps_per_epoch,\n",
    "          epochs=4)"
   ]
  },
  {
   "cell_type": "code",
   "execution_count": 20,
   "id": "59f42fdf",
   "metadata": {
    "ExecuteTime": {
     "end_time": "2021-07-24T15:53:42.407960Z",
     "start_time": "2021-07-24T15:53:38.306068Z"
    },
    "scrolled": true
   },
   "outputs": [
    {
     "name": "stderr",
     "output_type": "stream",
     "text": [
      "2021-07-24 21:23:41.935082: W tensorflow/python/util/util.cc:348] Sets are not currently considered sequences, but this may change in the future, so consider avoiding using them.\n"
     ]
    },
    {
     "name": "stdout",
     "output_type": "stream",
     "text": [
      "INFO:tensorflow:Assets written to: ./models/basic-model-shortened-sentence.model/assets\n"
     ]
    }
   ],
   "source": [
    "model.save('./models/basic-model-shortened-sentence.model')"
   ]
  },
  {
   "cell_type": "code",
   "execution_count": 21,
   "id": "ded34a49",
   "metadata": {
    "ExecuteTime": {
     "end_time": "2021-07-24T15:53:47.251113Z",
     "start_time": "2021-07-24T15:53:46.925469Z"
    }
   },
   "outputs": [
    {
     "name": "stderr",
     "output_type": "stream",
     "text": [
      "/home/imdaredevil/.local/lib/python3.8/site-packages/tensorflow/python/data/ops/dataset_ops.py:3703: UserWarning: Even though the `tf.config.experimental_run_functions_eagerly` option is set, this option does not apply to tf.data functions. To force eager execution of tf.data functions, please use `tf.data.experimental.enable.debug_mode()`.\n",
      "  warnings.warn(\n"
     ]
    },
    {
     "name": "stdout",
     "output_type": "stream",
     "text": [
      "spa\n"
     ]
    }
   ],
   "source": [
    "sentence = 'Buenos dias'\n",
    "man_test_x = word_vectorizer.transform([sentence])\n",
    "man_test_df = pd.DataFrame(data=man_test_x.toarray(), columns=word_vectorizer.get_feature_names())\n",
    "man_test_df = (man_test_df - min_df)/(max_df - min_df)\n",
    "man_test_num = man_test_df.to_numpy()\n",
    "y = model.predict(man_test_num)\n",
    "label = np.argmax(y)\n",
    "prediction = langEncoder.inverse_transform([label])\n",
    "prediction = prediction[0]\n",
    "print(prediction)"
   ]
  },
  {
   "cell_type": "code",
   "execution_count": 22,
   "id": "05b77630",
   "metadata": {
    "ExecuteTime": {
     "end_time": "2021-07-24T15:54:06.082317Z",
     "start_time": "2021-07-24T15:54:06.064369Z"
    }
   },
   "outputs": [],
   "source": [
    "import pickle\n",
    "preprocessing_objects = {\n",
    "    'word_vectorizer': word_vectorizer,\n",
    "    'lang_encoder': langEncoder,\n",
    "    'min_df': min_df,\n",
    "    'max_df': max_df\n",
    "}\n",
    "pickle.dump(preprocessing_objects,open('./models/basic-model-shortened-sentence-preprocessing-objects.pkl','wb'))"
   ]
  },
  {
   "cell_type": "code",
   "execution_count": null,
   "id": "afb63c31",
   "metadata": {},
   "outputs": [],
   "source": []
  }
 ],
 "metadata": {
  "kernelspec": {
   "display_name": "Python 3 (ipykernel)",
   "language": "python",
   "name": "python3"
  },
  "language_info": {
   "codemirror_mode": {
    "name": "ipython",
    "version": 3
   },
   "file_extension": ".py",
   "mimetype": "text/x-python",
   "name": "python",
   "nbconvert_exporter": "python",
   "pygments_lexer": "ipython3",
   "version": "3.8.10"
  },
  "varInspector": {
   "cols": {
    "lenName": 16,
    "lenType": 16,
    "lenVar": 40
   },
   "kernels_config": {
    "python": {
     "delete_cmd_postfix": "",
     "delete_cmd_prefix": "del ",
     "library": "var_list.py",
     "varRefreshCmd": "print(var_dic_list())"
    },
    "r": {
     "delete_cmd_postfix": ") ",
     "delete_cmd_prefix": "rm(",
     "library": "var_list.r",
     "varRefreshCmd": "cat(var_dic_list()) "
    }
   },
   "types_to_exclude": [
    "module",
    "function",
    "builtin_function_or_method",
    "instance",
    "_Feature"
   ],
   "window_display": false
  }
 },
 "nbformat": 4,
 "nbformat_minor": 5
}
