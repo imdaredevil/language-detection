{
 "cells": [
  {
   "cell_type": "code",
   "execution_count": 1,
   "id": "51b6a057",
   "metadata": {
    "ExecuteTime": {
     "end_time": "2021-07-24T17:05:47.860255Z",
     "start_time": "2021-07-24T17:05:37.808095Z"
    }
   },
   "outputs": [],
   "source": [
    "import fasttext\n",
    "import pandas as pd\n",
    "from sklearn.metrics import confusion_matrix"
   ]
  },
  {
   "cell_type": "code",
   "execution_count": 2,
   "id": "42d226be",
   "metadata": {
    "ExecuteTime": {
     "end_time": "2021-07-24T17:05:49.729074Z",
     "start_time": "2021-07-24T17:05:47.904846Z"
    }
   },
   "outputs": [
    {
     "name": "stderr",
     "output_type": "stream",
     "text": [
      "Warning : `load_model` does not return WordVectorModel or SupervisedModel any more, but a `FastText` object which is very similar.\n"
     ]
    }
   ],
   "source": [
    "model = fasttext.load_model('./models/lid.176.bin')"
   ]
  },
  {
   "cell_type": "code",
   "execution_count": 3,
   "id": "405fb2fc",
   "metadata": {
    "ExecuteTime": {
     "end_time": "2021-07-24T17:05:50.383392Z",
     "start_time": "2021-07-24T17:05:49.784875Z"
    }
   },
   "outputs": [
    {
     "ename": "AttributeError",
     "evalue": "'_FastText' object has no attribute 'summary'",
     "output_type": "error",
     "traceback": [
      "\u001b[0;31m---------------------------------------------------------------------------\u001b[0m",
      "\u001b[0;31mAttributeError\u001b[0m                            Traceback (most recent call last)",
      "\u001b[0;32m/tmp/ipykernel_301821/3470139634.py\u001b[0m in \u001b[0;36m<module>\u001b[0;34m\u001b[0m\n\u001b[0;32m----> 1\u001b[0;31m \u001b[0mmodel\u001b[0m\u001b[0;34m.\u001b[0m\u001b[0msummary\u001b[0m\u001b[0;34m(\u001b[0m\u001b[0;34m)\u001b[0m\u001b[0;34m\u001b[0m\u001b[0;34m\u001b[0m\u001b[0m\n\u001b[0m",
      "\u001b[0;31mAttributeError\u001b[0m: '_FastText' object has no attribute 'summary'"
     ]
    }
   ],
   "source": [
    "model.summary()"
   ]
  },
  {
   "cell_type": "code",
   "execution_count": 4,
   "id": "4891cf81",
   "metadata": {
    "ExecuteTime": {
     "end_time": "2021-07-24T17:05:52.248055Z",
     "start_time": "2021-07-24T17:05:52.226147Z"
    }
   },
   "outputs": [
    {
     "data": {
      "text/plain": [
       "(('__label__es',), array([0.72977448]))"
      ]
     },
     "execution_count": 4,
     "metadata": {},
     "output_type": "execute_result"
    }
   ],
   "source": [
    "model.predict('Dinero')"
   ]
  },
  {
   "cell_type": "code",
   "execution_count": 5,
   "id": "44601da8",
   "metadata": {
    "ExecuteTime": {
     "end_time": "2021-07-24T17:05:56.192464Z",
     "start_time": "2021-07-24T17:05:56.172545Z"
    }
   },
   "outputs": [
    {
     "data": {
      "text/plain": [
       "'__label__en'"
      ]
     },
     "execution_count": 5,
     "metadata": {},
     "output_type": "execute_result"
    }
   ],
   "source": [
    "result = model.predict('I am good')\n",
    "result[0][0]"
   ]
  },
  {
   "cell_type": "code",
   "execution_count": 6,
   "id": "4aba397f",
   "metadata": {
    "ExecuteTime": {
     "end_time": "2021-07-24T17:05:58.337598Z",
     "start_time": "2021-07-24T17:05:58.320565Z"
    }
   },
   "outputs": [],
   "source": [
    "LanguageList = ['eng','fra', 'spa','ita','deu']\n",
    "language_map = {\n",
    "    '__label__en': 'eng',\n",
    "    '__label__fr': 'fra',\n",
    "    '__label__it': 'ita',\n",
    "    '__label__de': 'deu',\n",
    "    '__label__es': 'spa',\n",
    "}"
   ]
  },
  {
   "cell_type": "code",
   "execution_count": 24,
   "id": "7949efec",
   "metadata": {
    "ExecuteTime": {
     "end_time": "2021-07-24T17:20:28.675239Z",
     "start_time": "2021-07-24T17:20:20.636123Z"
    }
   },
   "outputs": [],
   "source": [
    "def extract_text(text):\n",
    "    lang_key = text[0][0]\n",
    "    if lang_key in language_map.keys():\n",
    "        return language_map[lang_key]\n",
    "    else:\n",
    "        return 'None'\n",
    "df = pd.read_csv('./dataset/shortened-sentences.csv',  \n",
    "                            index_col=0,\n",
    "                            names=['lang','text'])\n",
    "df = df[df['lang'].isin(LanguageList)]\n",
    "output_target = df['lang'].tolist()\n",
    "output_pred = [model.predict(text.replace('\\n','')) for text in df['text']]\n",
    "output_pred = [extract_text(output_p) for output_p in output_pred]"
   ]
  },
  {
   "cell_type": "code",
   "execution_count": 25,
   "id": "9c3ce937",
   "metadata": {
    "ExecuteTime": {
     "end_time": "2021-07-24T17:20:29.843037Z",
     "start_time": "2021-07-24T17:20:28.973479Z"
    }
   },
   "outputs": [],
   "source": [
    "cf = confusion_matrix(output_target,output_pred,labels=LanguageList + ['None'])"
   ]
  },
  {
   "cell_type": "code",
   "execution_count": 26,
   "id": "e8a7e06f",
   "metadata": {
    "ExecuteTime": {
     "end_time": "2021-07-24T17:20:30.153770Z",
     "start_time": "2021-07-24T17:20:30.149295Z"
    }
   },
   "outputs": [
    {
     "data": {
      "text/plain": [
       "array([[115506,     78,    111,    123,     43,    422],\n",
       "       [   968, 120648,    388,    324,     39,    792],\n",
       "       [   276,    136, 116670,    824,     32,   2080],\n",
       "       [   200,     81,    317, 105464,     20,    455],\n",
       "       [   571,    148,    113,    137, 132470,   1032],\n",
       "       [     0,      0,      0,      0,      0,      0]])"
      ]
     },
     "execution_count": 26,
     "metadata": {},
     "output_type": "execute_result"
    }
   ],
   "source": [
    "cf"
   ]
  },
  {
   "cell_type": "code",
   "execution_count": 27,
   "id": "83d3b231",
   "metadata": {
    "ExecuteTime": {
     "end_time": "2021-07-24T17:20:33.329720Z",
     "start_time": "2021-07-24T17:20:33.305624Z"
    }
   },
   "outputs": [
    {
     "name": "stdout",
     "output_type": "stream",
     "text": [
      "600468\n",
      "590758\n",
      "0.9838292798284005\n",
      "0.016170720171599484\n",
      "9710\n"
     ]
    }
   ],
   "source": [
    "print(np.sum(cf))\n",
    "print(np.trace(cf))\n",
    "print(np.trace(cf)/np.sum(cf))\n",
    "print((np.sum(cf) - np.trace(cf))/np.sum(cf))\n",
    "print(np.sum(cf) - np.trace(cf))"
   ]
  },
  {
   "cell_type": "code",
   "execution_count": 20,
   "id": "c2181055",
   "metadata": {
    "ExecuteTime": {
     "end_time": "2021-07-24T17:13:38.313901Z",
     "start_time": "2021-07-24T17:13:37.919640Z"
    }
   },
   "outputs": [
    {
     "data": {
      "text/plain": [
       "5527"
      ]
     },
     "execution_count": 20,
     "metadata": {},
     "output_type": "execute_result"
    }
   ],
   "source": [
    "import gc\n",
    "gc.collect()"
   ]
  },
  {
   "cell_type": "code",
   "execution_count": null,
   "id": "f7dd8cb8",
   "metadata": {},
   "outputs": [],
   "source": []
  },
  {
   "cell_type": "code",
   "execution_count": null,
   "id": "d8e59600",
   "metadata": {},
   "outputs": [],
   "source": []
  }
 ],
 "metadata": {
  "kernelspec": {
   "display_name": "Python 3 (ipykernel)",
   "language": "python",
   "name": "python3"
  },
  "language_info": {
   "codemirror_mode": {
    "name": "ipython",
    "version": 3
   },
   "file_extension": ".py",
   "mimetype": "text/x-python",
   "name": "python",
   "nbconvert_exporter": "python",
   "pygments_lexer": "ipython3",
   "version": "3.8.10"
  },
  "varInspector": {
   "cols": {
    "lenName": 16,
    "lenType": 16,
    "lenVar": 40
   },
   "kernels_config": {
    "python": {
     "delete_cmd_postfix": "",
     "delete_cmd_prefix": "del ",
     "library": "var_list.py",
     "varRefreshCmd": "print(var_dic_list())"
    },
    "r": {
     "delete_cmd_postfix": ") ",
     "delete_cmd_prefix": "rm(",
     "library": "var_list.r",
     "varRefreshCmd": "cat(var_dic_list()) "
    }
   },
   "types_to_exclude": [
    "module",
    "function",
    "builtin_function_or_method",
    "instance",
    "_Feature"
   ],
   "window_display": false
  }
 },
 "nbformat": 4,
 "nbformat_minor": 5
}
