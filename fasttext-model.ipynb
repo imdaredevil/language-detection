{
 "cells": [
  {
   "cell_type": "code",
   "execution_count": 11,
   "source": [
    "import fasttext\n",
    "import pandas as pd\n",
    "from sklearn.metrics import confusion_matrix\n",
    "import numpy as np\n",
    "import matplotlib.pyplot as plot\n",
    "import seaborn as sn\n",
    "import pandas as pd"
   ],
   "outputs": [],
   "metadata": {
    "ExecuteTime": {
     "end_time": "2021-07-24T17:05:47.860255Z",
     "start_time": "2021-07-24T17:05:37.808095Z"
    }
   }
  },
  {
   "cell_type": "code",
   "execution_count": 2,
   "source": [
    "model = fasttext.load_model('./models/lid.176.bin')"
   ],
   "outputs": [
    {
     "output_type": "stream",
     "name": "stderr",
     "text": [
      "Warning : `load_model` does not return WordVectorModel or SupervisedModel any more, but a `FastText` object which is very similar.\n"
     ]
    }
   ],
   "metadata": {
    "ExecuteTime": {
     "end_time": "2021-07-24T17:05:49.729074Z",
     "start_time": "2021-07-24T17:05:47.904846Z"
    }
   }
  },
  {
   "cell_type": "code",
   "execution_count": 3,
   "source": [
    "model.summary()"
   ],
   "outputs": [
    {
     "output_type": "error",
     "ename": "AttributeError",
     "evalue": "'_FastText' object has no attribute 'summary'",
     "traceback": [
      "\u001b[0;31m---------------------------------------------------------------------------\u001b[0m",
      "\u001b[0;31mAttributeError\u001b[0m                            Traceback (most recent call last)",
      "\u001b[0;32m/tmp/ipykernel_301821/3470139634.py\u001b[0m in \u001b[0;36m<module>\u001b[0;34m\u001b[0m\n\u001b[0;32m----> 1\u001b[0;31m \u001b[0mmodel\u001b[0m\u001b[0;34m.\u001b[0m\u001b[0msummary\u001b[0m\u001b[0;34m(\u001b[0m\u001b[0;34m)\u001b[0m\u001b[0;34m\u001b[0m\u001b[0;34m\u001b[0m\u001b[0m\n\u001b[0m",
      "\u001b[0;31mAttributeError\u001b[0m: '_FastText' object has no attribute 'summary'"
     ]
    }
   ],
   "metadata": {
    "ExecuteTime": {
     "end_time": "2021-07-24T17:05:50.383392Z",
     "start_time": "2021-07-24T17:05:49.784875Z"
    }
   }
  },
  {
   "cell_type": "code",
   "execution_count": 3,
   "source": [
    "model.predict('Dinero')"
   ],
   "outputs": [
    {
     "output_type": "execute_result",
     "data": {
      "text/plain": [
       "(('__label__es',), array([0.72977448]))"
      ]
     },
     "metadata": {},
     "execution_count": 3
    }
   ],
   "metadata": {
    "ExecuteTime": {
     "end_time": "2021-07-24T17:05:52.248055Z",
     "start_time": "2021-07-24T17:05:52.226147Z"
    }
   }
  },
  {
   "cell_type": "code",
   "execution_count": 4,
   "source": [
    "result = model.predict('I am good')\n",
    "result[0][0]"
   ],
   "outputs": [
    {
     "output_type": "execute_result",
     "data": {
      "text/plain": [
       "'__label__en'"
      ]
     },
     "metadata": {},
     "execution_count": 4
    }
   ],
   "metadata": {
    "ExecuteTime": {
     "end_time": "2021-07-24T17:05:56.192464Z",
     "start_time": "2021-07-24T17:05:56.172545Z"
    }
   }
  },
  {
   "cell_type": "code",
   "execution_count": 5,
   "source": [
    "LanguageList = ['eng','fra', 'spa','ita','deu']\n",
    "language_map = {\n",
    "    '__label__en': 'eng',\n",
    "    '__label__fr': 'fra',\n",
    "    '__label__it': 'ita',\n",
    "    '__label__de': 'deu',\n",
    "    '__label__es': 'spa',\n",
    "}"
   ],
   "outputs": [],
   "metadata": {
    "ExecuteTime": {
     "end_time": "2021-07-24T17:05:58.337598Z",
     "start_time": "2021-07-24T17:05:58.320565Z"
    }
   }
  },
  {
   "cell_type": "code",
   "execution_count": 6,
   "source": [
    "def extract_text(text):\n",
    "    lang_key = text[0][0]\n",
    "    if lang_key in language_map.keys():\n",
    "        return language_map[lang_key]\n",
    "    else:\n",
    "        return 'None'\n",
    "df = pd.read_csv('./dataset/shortened-sentences.csv',  \n",
    "                            index_col=0,\n",
    "                            names=['lang','text'])\n",
    "df = df[df['lang'].isin(LanguageList)]\n",
    "output_target = df['lang'].tolist()\n",
    "output_pred = [model.predict(text.replace('\\n','')) for text in df['text']]\n",
    "output_pred = [extract_text(output_p) for output_p in output_pred]"
   ],
   "outputs": [],
   "metadata": {
    "ExecuteTime": {
     "end_time": "2021-07-24T17:20:28.675239Z",
     "start_time": "2021-07-24T17:20:20.636123Z"
    }
   }
  },
  {
   "cell_type": "code",
   "execution_count": 7,
   "source": [
    "cf = confusion_matrix(output_target,output_pred,labels=LanguageList + ['None'])"
   ],
   "outputs": [],
   "metadata": {
    "ExecuteTime": {
     "end_time": "2021-07-24T17:20:29.843037Z",
     "start_time": "2021-07-24T17:20:28.973479Z"
    }
   }
  },
  {
   "cell_type": "code",
   "execution_count": 8,
   "source": [
    "cf"
   ],
   "outputs": [
    {
     "output_type": "execute_result",
     "data": {
      "text/plain": [
       "array([[115506,     78,    111,    123,     43,    422],\n",
       "       [   968, 120648,    388,    324,     39,    792],\n",
       "       [   276,    136, 116670,    824,     32,   2080],\n",
       "       [   200,     81,    317, 105464,     20,    455],\n",
       "       [   571,    148,    113,    137, 132470,   1032],\n",
       "       [     0,      0,      0,      0,      0,      0]])"
      ]
     },
     "metadata": {},
     "execution_count": 8
    }
   ],
   "metadata": {
    "ExecuteTime": {
     "end_time": "2021-07-24T17:20:30.153770Z",
     "start_time": "2021-07-24T17:20:30.149295Z"
    }
   }
  },
  {
   "cell_type": "code",
   "execution_count": 12,
   "source": [
    "print(np.sum(cf))\n",
    "print(np.trace(cf))\n",
    "print(np.trace(cf)/np.sum(cf))\n",
    "print((np.sum(cf) - np.trace(cf))/np.sum(cf))\n",
    "print(np.sum(cf) - np.trace(cf))"
   ],
   "outputs": [
    {
     "output_type": "stream",
     "name": "stdout",
     "text": [
      "600468\n",
      "590758\n",
      "0.9838292798284005\n",
      "0.016170720171599484\n",
      "9710\n"
     ]
    }
   ],
   "metadata": {
    "ExecuteTime": {
     "end_time": "2021-07-24T17:20:33.329720Z",
     "start_time": "2021-07-24T17:20:33.305624Z"
    }
   }
  },
  {
   "cell_type": "code",
   "execution_count": 13,
   "source": [
    "import gc\n",
    "gc.collect()"
   ],
   "outputs": [
    {
     "output_type": "execute_result",
     "data": {
      "text/plain": [
       "2068"
      ]
     },
     "metadata": {},
     "execution_count": 13
    }
   ],
   "metadata": {
    "ExecuteTime": {
     "end_time": "2021-07-24T17:13:38.313901Z",
     "start_time": "2021-07-24T17:13:37.919640Z"
    }
   }
  },
  {
   "cell_type": "code",
   "execution_count": 15,
   "source": [
    "cf_df = pd.DataFrame(data=cf,columns=LanguageList + ['None'],index=LanguageList + ['None'])\n",
    "plot.figure(figsize = (10,7))\n",
    "sns_plot = sn.heatmap(cf_df, annot=True)"
   ],
   "outputs": [
    {
     "output_type": "display_data",
     "data": {
      "text/plain": [
       "<Figure size 720x504 with 2 Axes>"
      ],
      "image/png": "[encoded data removed]"
     },
     "metadata": {
      "needs_background": "light"
     }
    }
   ],
   "metadata": {}
  },
  {
   "cell_type": "code",
   "execution_count": 16,
   "source": [
    "sns_plot.figure.savefig('./outputs/fasttext-model.png')"
   ],
   "outputs": [],
   "metadata": {}
  }
 ],
 "metadata": {
  "kernelspec": {
   "name": "python3",
   "display_name": "Python 3.8.10 64-bit"
  },
  "language_info": {
   "codemirror_mode": {
    "name": "ipython",
    "version": 3
   },
   "file_extension": ".py",
   "mimetype": "text/x-python",
   "name": "python",
   "nbconvert_exporter": "python",
   "pygments_lexer": "ipython3",
   "version": "3.8.10"
  },
  "varInspector": {
   "cols": {
    "lenName": 16,
    "lenType": 16,
    "lenVar": 40
   },
   "kernels_config": {
    "python": {
     "delete_cmd_postfix": "",
     "delete_cmd_prefix": "del ",
     "library": "var_list.py",
     "varRefreshCmd": "print(var_dic_list())"
    },
    "r": {
     "delete_cmd_postfix": ") ",
     "delete_cmd_prefix": "rm(",
     "library": "var_list.r",
     "varRefreshCmd": "cat(var_dic_list()) "
    }
   },
   "types_to_exclude": [
    "module",
    "function",
    "builtin_function_or_method",
    "instance",
    "_Feature"
   ],
   "window_display": false
  },
  "interpreter": {
   "hash": "31f2aee4e71d21fbe5cf8b01ff0e069b9275f58929596ceb00d14d90e3e16cd6"
  }
 },
 "nbformat": 4,
 "nbformat_minor": 5
}