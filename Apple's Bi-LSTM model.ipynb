{
 "cells": [
  {
   "cell_type": "code",
   "execution_count": 1,
   "id": "60857cfa",
   "metadata": {
    "ExecuteTime": {
     "end_time": "2021-07-23T13:21:06.848624Z",
     "start_time": "2021-07-23T13:21:04.246961Z"
    }
   },
   "outputs": [],
   "source": [
    "import pandas as pd\n",
    "import numpy as np"
   ]
  },
  {
   "cell_type": "code",
   "execution_count": 2,
   "id": "fab204fe",
   "metadata": {
    "ExecuteTime": {
     "end_time": "2021-07-23T13:21:22.875752Z",
     "start_time": "2021-07-23T13:21:08.057941Z"
    }
   },
   "outputs": [],
   "source": [
    "df = pd.read_csv('./dataset/sentences.csv', sep='\\t', \n",
    "                            encoding='utf8', \n",
    "                            index_col=0,\n",
    "                            names=['lang','text'])"
   ]
  },
  {
   "cell_type": "code",
   "execution_count": 17,
   "id": "837768da",
   "metadata": {
    "ExecuteTime": {
     "end_time": "2021-07-23T13:30:28.906252Z",
     "start_time": "2021-07-23T13:30:28.891066Z"
    }
   },
   "outputs": [],
   "source": [
    "LANGUAGE_LIST = ['eng','fra', 'spa','ita','deu']\n",
    "SENTENCE_PER_LANG_FOR_DATASET = 100000\n",
    "CHAR_PER_SENTENCE = 50"
   ]
  },
  {
   "cell_type": "code",
   "execution_count": 18,
   "id": "a2fabcd1",
   "metadata": {
    "ExecuteTime": {
     "end_time": "2021-07-23T13:30:34.518872Z",
     "start_time": "2021-07-23T13:30:30.294437Z"
    }
   },
   "outputs": [
    {
     "data": {
      "text/html": [
       "<div>\n",
       "<style scoped>\n",
       "    .dataframe tbody tr th:only-of-type {\n",
       "        vertical-align: middle;\n",
       "    }\n",
       "\n",
       "    .dataframe tbody tr th {\n",
       "        vertical-align: top;\n",
       "    }\n",
       "\n",
       "    .dataframe thead th {\n",
       "        text-align: right;\n",
       "    }\n",
       "</style>\n",
       "<table border=\"1\" class=\"dataframe\">\n",
       "  <thead>\n",
       "    <tr style=\"text-align: right;\">\n",
       "      <th></th>\n",
       "      <th>lang</th>\n",
       "      <th>text</th>\n",
       "    </tr>\n",
       "  </thead>\n",
       "  <tbody>\n",
       "    <tr>\n",
       "      <th>count</th>\n",
       "      <td>500000</td>\n",
       "      <td>500000</td>\n",
       "    </tr>\n",
       "    <tr>\n",
       "      <th>unique</th>\n",
       "      <td>5</td>\n",
       "      <td>499996</td>\n",
       "    </tr>\n",
       "    <tr>\n",
       "      <th>top</th>\n",
       "      <td>spa</td>\n",
       "      <td>Lo odio.</td>\n",
       "    </tr>\n",
       "    <tr>\n",
       "      <th>freq</th>\n",
       "      <td>100000</td>\n",
       "      <td>2</td>\n",
       "    </tr>\n",
       "  </tbody>\n",
       "</table>\n",
       "</div>"
      ],
      "text/plain": [
       "          lang      text\n",
       "count   500000    500000\n",
       "unique       5    499996\n",
       "top        spa  Lo odio.\n",
       "freq    100000         2"
      ]
     },
     "execution_count": 18,
     "metadata": {},
     "output_type": "execute_result"
    }
   ],
   "source": [
    "filtered_df = pd.DataFrame(columns=df.columns)\n",
    "for l in LANGUAGE_LIST:\n",
    "    filtered_df = pd.concat([filtered_df, \n",
    "                            df[df['lang'] == l].sample(\n",
    "                                SENTENCE_PER_LANG_FOR_DATASET)])\n",
    "filtered_df.describe()"
   ]
  },
  {
   "cell_type": "code",
   "execution_count": 16,
   "id": "5c571bce",
   "metadata": {
    "ExecuteTime": {
     "end_time": "2021-07-23T13:30:01.325244Z",
     "start_time": "2021-07-23T13:30:00.672406Z"
    }
   },
   "outputs": [
    {
     "data": {
      "text/plain": [
       "3660148"
      ]
     },
     "execution_count": 16,
     "metadata": {},
     "output_type": "execute_result"
    }
   ],
   "source": [
    "len(df[df['lang'].isin(LANGUAGE_LIST)])"
   ]
  },
  {
   "cell_type": "code",
   "execution_count": 19,
   "id": "a4de9d55",
   "metadata": {
    "ExecuteTime": {
     "end_time": "2021-07-23T13:31:24.865845Z",
     "start_time": "2021-07-23T13:30:43.631553Z"
    }
   },
   "outputs": [],
   "source": [
    "shortened_rows_list = []\n",
    "for index, row in filtered_df.iterrows():\n",
    "    words = row[\"text\"].split(' ')\n",
    "    currRow = ''\n",
    "    for word in words:\n",
    "        if len(word) > CHAR_PER_SENTENCE:\n",
    "            continue\n",
    "        if len(currRow + ' ' + word) > CHAR_PER_SENTENCE:\n",
    "            shortened_rows_list.append({\n",
    "                'text': currRow,\n",
    "                'lang': row[\"lang\"]\n",
    "            })\n",
    "            currRow = word\n",
    "        else:\n",
    "            currRow = currRow + ' ' + word\n",
    "    if currRow != '':\n",
    "        shortened_rows_list.append({\n",
    "            'text': currRow,\n",
    "            'lang': row[\"lang\"]\n",
    "        })\n",
    "shortened_df = pd.DataFrame(data=shortened_rows_list, columns=df.columns)"
   ]
  },
  {
   "cell_type": "code",
   "execution_count": 21,
   "id": "2ff137e3",
   "metadata": {
    "ExecuteTime": {
     "end_time": "2021-07-23T13:32:47.843139Z",
     "start_time": "2021-07-23T13:32:46.528162Z"
    }
   },
   "outputs": [],
   "source": [
    "shortened_df.to_csv('./shortened-sentences.csv')"
   ]
  },
  {
   "cell_type": "code",
   "execution_count": null,
   "id": "28983f61",
   "metadata": {},
   "outputs": [],
   "source": []
  }
 ],
 "metadata": {
  "kernelspec": {
   "display_name": "Python 3 (ipykernel)",
   "language": "python",
   "name": "python3"
  },
  "language_info": {
   "codemirror_mode": {
    "name": "ipython",
    "version": 3
   },
   "file_extension": ".py",
   "mimetype": "text/x-python",
   "name": "python",
   "nbconvert_exporter": "python",
   "pygments_lexer": "ipython3",
   "version": "3.8.10"
  },
  "varInspector": {
   "cols": {
    "lenName": 16,
    "lenType": 16,
    "lenVar": 40
   },
   "kernels_config": {
    "python": {
     "delete_cmd_postfix": "",
     "delete_cmd_prefix": "del ",
     "library": "var_list.py",
     "varRefreshCmd": "print(var_dic_list())"
    },
    "r": {
     "delete_cmd_postfix": ") ",
     "delete_cmd_prefix": "rm(",
     "library": "var_list.r",
     "varRefreshCmd": "cat(var_dic_list()) "
    }
   },
   "types_to_exclude": [
    "module",
    "function",
    "builtin_function_or_method",
    "instance",
    "_Feature"
   ],
   "window_display": false
  }
 },
 "nbformat": 4,
 "nbformat_minor": 5
}
