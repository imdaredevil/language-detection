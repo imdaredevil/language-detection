{
 "cells": [
  {
   "cell_type": "code",
   "execution_count": 8,
   "id": "60857cfa",
   "metadata": {
    "ExecuteTime": {
     "end_time": "2021-07-24T09:26:22.162276Z",
     "start_time": "2021-07-24T09:26:21.565406Z"
    }
   },
   "outputs": [],
   "source": [
    "import pandas as pd\n",
    "import numpy as np\n",
    "from sklearn.feature_extraction.text import CountVectorizer \n",
    "from sklearn.preprocessing import LabelEncoder\n",
    "import gc\n",
    "import tensorflow as tf\n",
    "from tensorflow.keras.utils import to_categorical\n",
    "from keras.preprocessing.sequence import pad_sequences\n",
    "from tensorflow.keras import Sequential, Model\n",
    "from tensorflow.keras.models import load_model\n",
    "from tensorflow.keras.layers import Bidirectional, LSTM, Embedding, Dense, Add, Input, Flatten, Lambda\n",
    "from tensorflow.keras import backend as K\n",
    "from sklearn.metrics import confusion_matrix\n",
    "import matplotlib.pyplot as plot\n",
    "import seaborn as sn\n",
    "import pickle"
   ]
  },
  {
   "cell_type": "code",
   "execution_count": null,
   "id": "fab204fe",
   "metadata": {
    "ExecuteTime": {
     "end_time": "2021-07-24T07:25:11.500341Z",
     "start_time": "2021-07-24T07:25:11.494694Z"
    }
   },
   "outputs": [],
   "source": [
    "#  uncomment following codes for creating shortened text dataset from original tatoeba dataset\n",
    "# df = pd.read_csv('./dataset/sentences.csv', sep='\\t', \n",
    "#                             encoding='utf8', \n",
    "#                             index_col=0,\n",
    "#                             names=['lang','text'])"
   ]
  },
  {
   "cell_type": "code",
   "execution_count": 2,
   "id": "837768da",
   "metadata": {
    "ExecuteTime": {
     "end_time": "2021-07-24T09:12:42.410855Z",
     "start_time": "2021-07-24T09:12:42.406178Z"
    }
   },
   "outputs": [],
   "source": [
    "LANGUAGE_LIST = ['eng','fra', 'spa','ita','deu']\n",
    "SENTENCE_PER_LANG_FOR_DATASET = 100000\n",
    "CHAR_PER_SENTENCE = 50\n",
    "VAL_SENTENCES = 25000\n",
    "TEST_SENTENCES = 25000 \n",
    "NULL_CHAR = '<None>'"
   ]
  },
  {
   "cell_type": "code",
   "execution_count": null,
   "id": "a2fabcd1",
   "metadata": {
    "ExecuteTime": {
     "end_time": "2021-07-24T07:25:11.911681Z",
     "start_time": "2021-07-24T07:25:11.657359Z"
    }
   },
   "outputs": [],
   "source": [
    "# filtered_df = pd.DataFrame(columns=df.columns)\n",
    "# for l in LANGUAGE_LIST:\n",
    "#     filtered_df = pd.concat([filtered_df, \n",
    "#                             df[df['lang'] == l].sample(\n",
    "#                                 SENTENCE_PER_LANG_FOR_DATASET)])\n",
    "# filtered_df.describe()"
   ]
  },
  {
   "cell_type": "code",
   "execution_count": null,
   "id": "a4de9d55",
   "metadata": {
    "ExecuteTime": {
     "end_time": "2021-07-24T07:25:12.389418Z",
     "start_time": "2021-07-24T07:25:12.375379Z"
    }
   },
   "outputs": [],
   "source": [
    "# shortened_rows_list = []\n",
    "# for index, row in filtered_df.iterrows():\n",
    "#     words = row[\"text\"].split(' ')\n",
    "#     currRow = ''\n",
    "#     for word in words:\n",
    "#         if len(word) > CHAR_PER_SENTENCE:\n",
    "#             continue\n",
    "#         if len(currRow + ' ' + word) > CHAR_PER_SENTENCE:\n",
    "#             shortened_rows_list.append({\n",
    "#                 'text': currRow,\n",
    "#                 'lang': row[\"lang\"]\n",
    "#             })\n",
    "#             currRow = word\n",
    "#         else:\n",
    "#             currRow = currRow + ' ' + word\n",
    "#     if currRow != '':\n",
    "#         shortened_rows_list.append({\n",
    "#             'text': currRow,\n",
    "#             'lang': row[\"lang\"]\n",
    "#         })\n",
    "# shortened_df = pd.DataFrame(data=shortened_rows_list, columns=df.columns)\n",
    "# shortened_df = shortened_df.drop_duplicates(subset='text')"
   ]
  },
  {
   "cell_type": "code",
   "execution_count": null,
   "id": "cf1fa8e5",
   "metadata": {
    "ExecuteTime": {
     "end_time": "2021-07-24T07:25:13.087134Z",
     "start_time": "2021-07-24T07:25:13.078213Z"
    }
   },
   "outputs": [],
   "source": [
    "# shortened_df.to_csv('./dataset/shortened-sentences.csv')"
   ]
  },
  {
   "cell_type": "code",
   "execution_count": 7,
   "id": "fc3f9a0e",
   "metadata": {
    "ExecuteTime": {
     "end_time": "2021-07-24T09:19:12.530668Z",
     "start_time": "2021-07-24T09:19:10.540387Z"
    }
   },
   "outputs": [
    {
     "data": {
      "text/html": [
       "<div>\n",
       "<style scoped>\n",
       "    .dataframe tbody tr th:only-of-type {\n",
       "        vertical-align: middle;\n",
       "    }\n",
       "\n",
       "    .dataframe tbody tr th {\n",
       "        vertical-align: top;\n",
       "    }\n",
       "\n",
       "    .dataframe thead th {\n",
       "        text-align: right;\n",
       "    }\n",
       "</style>\n",
       "<table border=\"1\" class=\"dataframe\">\n",
       "  <thead>\n",
       "    <tr style=\"text-align: right;\">\n",
       "      <th></th>\n",
       "      <th>lang</th>\n",
       "      <th>text</th>\n",
       "    </tr>\n",
       "  </thead>\n",
       "  <tbody>\n",
       "    <tr>\n",
       "      <th>count</th>\n",
       "      <td>600468</td>\n",
       "      <td>600468</td>\n",
       "    </tr>\n",
       "    <tr>\n",
       "      <th>unique</th>\n",
       "      <td>5</td>\n",
       "      <td>600468</td>\n",
       "    </tr>\n",
       "    <tr>\n",
       "      <th>top</th>\n",
       "      <td>deu</td>\n",
       "      <td>Où est ton chapeau ?</td>\n",
       "    </tr>\n",
       "    <tr>\n",
       "      <th>freq</th>\n",
       "      <td>134471</td>\n",
       "      <td>1</td>\n",
       "    </tr>\n",
       "  </tbody>\n",
       "</table>\n",
       "</div>"
      ],
      "text/plain": [
       "          lang                   text\n",
       "count   600468                 600468\n",
       "unique       5                 600468\n",
       "top        deu   Où est ton chapeau ?\n",
       "freq    134471                      1"
      ]
     },
     "execution_count": 7,
     "metadata": {},
     "output_type": "execute_result"
    }
   ],
   "source": [
    "df = pd.read_csv('./dataset/shortened-sentences.csv', index_col=0)\n",
    "df.describe()"
   ]
  },
  {
   "cell_type": "code",
   "execution_count": null,
   "id": "28fa306e",
   "metadata": {
    "ExecuteTime": {
     "end_time": "2021-07-24T07:25:16.822603Z",
     "start_time": "2021-07-24T07:25:14.907784Z"
    }
   },
   "outputs": [],
   "source": [
    "vocab_set = set()\n",
    "for text in df['text']:\n",
    "    for char in text:\n",
    "        vocab_set.add(char)\n",
    "vocab = list(vocab_set)\n",
    "vocab.append('<None>')\n",
    "vocab_encoder = LabelEncoder()\n",
    "vocab_encoder.fit(vocab)"
   ]
  },
  {
   "cell_type": "code",
   "execution_count": null,
   "id": "2c71feb2",
   "metadata": {
    "ExecuteTime": {
     "end_time": "2021-07-24T07:25:16.853202Z",
     "start_time": "2021-07-24T07:25:16.849355Z"
    }
   },
   "outputs": [],
   "source": [
    "len(vocab)\n",
    "vocab.append('<None>')"
   ]
  },
  {
   "cell_type": "code",
   "execution_count": null,
   "id": "f78f9bce",
   "metadata": {
    "ExecuteTime": {
     "end_time": "2021-07-24T07:25:17.136633Z",
     "start_time": "2021-07-24T07:25:16.878876Z"
    }
   },
   "outputs": [],
   "source": [
    "shuffled_df = df.sample(frac=1)\n",
    "val_df = shuffled_df[:VAL_SENTENCES]\n",
    "test_df = shuffled_df[VAL_SENTENCES:VAL_SENTENCES + TEST_SENTENCES]\n",
    "train_df = shuffled_df[VAL_SENTENCES+TEST_SENTENCES:]"
   ]
  },
  {
   "cell_type": "code",
   "execution_count": null,
   "id": "7394dab2",
   "metadata": {
    "ExecuteTime": {
     "end_time": "2021-07-24T07:25:23.058654Z",
     "start_time": "2021-07-24T07:25:22.905717Z"
    }
   },
   "outputs": [],
   "source": [
    "del vocab_set,vocab_encoder,df, shuffled_df\n",
    "gc.collect()"
   ]
  },
  {
   "cell_type": "code",
   "execution_count": null,
   "id": "44e56e22",
   "metadata": {},
   "outputs": [],
   "source": [
    "vocab_encoder = LabelEncoder()\n",
    "vocab_encoder.fit(vocab)\n",
    "label_encoder = LabelEncoder()\n",
    "label_encoder.fit(LANGUAGE_LIST)"
   ]
  },
  {
   "cell_type": "code",
   "execution_count": 3,
   "id": "ee49440c",
   "metadata": {
    "ExecuteTime": {
     "end_time": "2021-07-24T09:12:52.767929Z",
     "start_time": "2021-07-24T09:12:52.752129Z"
    }
   },
   "outputs": [],
   "source": [
    "def text_to_vector(text):\n",
    "    char_list = list(text)\n",
    "    char_list = [NULL_CHAR]*(CHAR_PER_SENTENCE - len(text)) + char_list\n",
    "    labels = vocab_encoder.transform(char_list)\n",
    "    return labels"
   ]
  },
  {
   "cell_type": "code",
   "execution_count": 6,
   "id": "8a842cb2",
   "metadata": {
    "ExecuteTime": {
     "end_time": "2021-07-24T09:16:10.163942Z",
     "start_time": "2021-07-24T09:16:10.144425Z"
    }
   },
   "outputs": [],
   "source": [
    "def data_generator(dataset_df, batch_size):\n",
    "    no_of_batches = len(dataset_df) // batch_size\n",
    "    batches = np.array_split(dataset_df, no_of_batches)\n",
    "    i = 0;\n",
    "    while True:\n",
    "        batch = batches[i]\n",
    "        i += 1\n",
    "        i %= no_of_batches\n",
    "        x = np.stack(list(map(text_to_vector,batch['text'])))\n",
    "        y = to_categorical(label_encoder.transform(batch['lang']),num_classes=len(LANGUAGE_LIST))\n",
    "        yield x,y            "
   ]
  },
  {
   "cell_type": "code",
   "execution_count": null,
   "id": "a005591c",
   "metadata": {
    "ExecuteTime": {
     "end_time": "2021-07-24T07:25:38.716949Z",
     "start_time": "2021-07-24T07:25:31.132876Z"
    }
   },
   "outputs": [],
   "source": [
    "train_generator = data_generator(train_df,5)\n",
    "x,y = next(train_generator)\n",
    "print(x)\n",
    "print(x.shape)\n",
    "print(y)\n",
    "print(y.shape)"
   ]
  },
  {
   "cell_type": "code",
   "execution_count": null,
   "id": "a5ce04e0",
   "metadata": {
    "ExecuteTime": {
     "end_time": "2021-07-24T07:27:35.359644Z",
     "start_time": "2021-07-24T07:27:35.344550Z"
    }
   },
   "outputs": [],
   "source": [
    "batch_size = 64\n",
    "train_generator = data_generator(train_df, batch_size)\n",
    "val_generator = data_generator(val_df, batch_size)\n",
    "train_steps_per_epoch = len(train_df) // batch_size\n",
    "val_steps_per_epoch = len(val_df) // batch_size"
   ]
  },
  {
   "cell_type": "code",
   "execution_count": null,
   "id": "5b76fb39",
   "metadata": {
    "ExecuteTime": {
     "end_time": "2021-07-24T07:27:37.198175Z",
     "start_time": "2021-07-24T07:27:36.762259Z"
    }
   },
   "outputs": [],
   "source": [
    "input_layer = Input(shape=(CHAR_PER_SENTENCE,))\n",
    "embedding_out = Embedding(len(vocab),150,input_length=CHAR_PER_SENTENCE)(input_layer)\n",
    "lstm_layer = LSTM(150, return_sequences=True)\n",
    "bidirectional_out = Bidirectional(lstm_layer)(embedding_out)\n",
    "flat_out = Flatten()(bidirectional_out)\n",
    "dense_out = Dense(len(LANGUAGE_LIST),activation='softmax')(flat_out)\n",
    "model = Model(input_layer,dense_out)\n",
    "model.summary()"
   ]
  },
  {
   "cell_type": "code",
   "execution_count": null,
   "id": "e7299beb",
   "metadata": {
    "ExecuteTime": {
     "end_time": "2021-07-24T07:27:39.682206Z",
     "start_time": "2021-07-24T07:27:39.653391Z"
    }
   },
   "outputs": [],
   "source": [
    "model.compile(optimizer='Adam',loss='categorical_crossentropy', metrics=['accuracy'])"
   ]
  },
  {
   "cell_type": "code",
   "execution_count": null,
   "id": "a65a800d",
   "metadata": {
    "ExecuteTime": {
     "end_time": "2021-07-24T08:04:59.152857Z",
     "start_time": "2021-07-24T07:27:41.427175Z"
    }
   },
   "outputs": [],
   "source": [
    "model.fit(train_generator,\n",
    "          steps_per_epoch=train_steps_per_epoch,\n",
    "          validation_data=val_generator,\n",
    "          validation_steps=val_steps_per_epoch,\n",
    "          epochs=4)\n",
    "         "
   ]
  },
  {
   "cell_type": "code",
   "execution_count": null,
   "id": "ab6049b9",
   "metadata": {
    "ExecuteTime": {
     "end_time": "2021-07-24T08:05:45.743164Z",
     "start_time": "2021-07-24T08:05:34.944635Z"
    }
   },
   "outputs": [],
   "source": [
    "model.save('./models/apple-bi-lstm.model')"
   ]
  },
  {
   "cell_type": "code",
   "execution_count": null,
   "id": "6876cff2",
   "metadata": {
    "ExecuteTime": {
     "end_time": "2021-07-24T08:08:13.587955Z",
     "start_time": "2021-07-24T08:08:13.577402Z"
    }
   },
   "outputs": [],
   "source": [
    "preprocessing_objects = {\n",
    "    'label_encoder': label_encoder,\n",
    "    'vocab_encoder': vocab_encoder\n",
    "}\n",
    "pickle.dump(preprocessing_objects, open('./models/apple-bi-lstm-preprocessing-objects.pkl','wb'))"
   ]
  },
  {
   "cell_type": "code",
   "execution_count": 4,
   "id": "b41de3de",
   "metadata": {
    "ExecuteTime": {
     "end_time": "2021-07-24T09:13:07.146713Z",
     "start_time": "2021-07-24T09:13:01.616329Z"
    }
   },
   "outputs": [
    {
     "name": "stderr",
     "output_type": "stream",
     "text": [
      "2021-07-24 14:43:01.911493: I tensorflow/stream_executor/platform/default/dso_loader.cc:53] Successfully opened dynamic library libcuda.so.1\n",
      "2021-07-24 14:43:02.224378: I tensorflow/stream_executor/cuda/cuda_gpu_executor.cc:937] successful NUMA node read from SysFS had negative value (-1), but there must be at least one NUMA node, so returning NUMA node zero\n",
      "2021-07-24 14:43:02.225018: I tensorflow/core/common_runtime/gpu/gpu_device.cc:1733] Found device 0 with properties: \n",
      "pciBusID: 0000:01:00.0 name: NVIDIA GeForce 940MX computeCapability: 5.0\n",
      "coreClock: 1.2415GHz coreCount: 3 deviceMemorySize: 3.95GiB deviceMemoryBandwidth: 13.41GiB/s\n",
      "2021-07-24 14:43:02.225118: I tensorflow/stream_executor/platform/default/dso_loader.cc:53] Successfully opened dynamic library libcudart.so.11.0\n",
      "2021-07-24 14:43:02.238373: I tensorflow/stream_executor/platform/default/dso_loader.cc:53] Successfully opened dynamic library libcublas.so.11\n",
      "2021-07-24 14:43:02.238512: I tensorflow/stream_executor/platform/default/dso_loader.cc:53] Successfully opened dynamic library libcublasLt.so.11\n",
      "2021-07-24 14:43:02.240150: I tensorflow/stream_executor/platform/default/dso_loader.cc:53] Successfully opened dynamic library libcufft.so.10\n",
      "2021-07-24 14:43:02.240609: I tensorflow/stream_executor/platform/default/dso_loader.cc:53] Successfully opened dynamic library libcurand.so.10\n",
      "2021-07-24 14:43:02.241525: I tensorflow/stream_executor/platform/default/dso_loader.cc:53] Successfully opened dynamic library libcusolver.so.11\n",
      "2021-07-24 14:43:02.243044: I tensorflow/stream_executor/platform/default/dso_loader.cc:53] Successfully opened dynamic library libcusparse.so.11\n",
      "2021-07-24 14:43:02.267240: I tensorflow/stream_executor/platform/default/dso_loader.cc:53] Successfully opened dynamic library libcudnn.so.8\n",
      "2021-07-24 14:43:02.267599: I tensorflow/stream_executor/cuda/cuda_gpu_executor.cc:937] successful NUMA node read from SysFS had negative value (-1), but there must be at least one NUMA node, so returning NUMA node zero\n",
      "2021-07-24 14:43:02.268725: I tensorflow/stream_executor/cuda/cuda_gpu_executor.cc:937] successful NUMA node read from SysFS had negative value (-1), but there must be at least one NUMA node, so returning NUMA node zero\n",
      "2021-07-24 14:43:02.269485: I tensorflow/core/common_runtime/gpu/gpu_device.cc:1871] Adding visible gpu devices: 0\n",
      "2021-07-24 14:43:02.270399: I tensorflow/core/platform/cpu_feature_guard.cc:142] This TensorFlow binary is optimized with oneAPI Deep Neural Network Library (oneDNN) to use the following CPU instructions in performance-critical operations:  AVX2 FMA\n",
      "To enable them in other operations, rebuild TensorFlow with the appropriate compiler flags.\n",
      "2021-07-24 14:43:02.271728: I tensorflow/stream_executor/cuda/cuda_gpu_executor.cc:937] successful NUMA node read from SysFS had negative value (-1), but there must be at least one NUMA node, so returning NUMA node zero\n",
      "2021-07-24 14:43:02.272961: I tensorflow/core/common_runtime/gpu/gpu_device.cc:1733] Found device 0 with properties: \n",
      "pciBusID: 0000:01:00.0 name: NVIDIA GeForce 940MX computeCapability: 5.0\n",
      "coreClock: 1.2415GHz coreCount: 3 deviceMemorySize: 3.95GiB deviceMemoryBandwidth: 13.41GiB/s\n",
      "2021-07-24 14:43:02.273298: I tensorflow/stream_executor/cuda/cuda_gpu_executor.cc:937] successful NUMA node read from SysFS had negative value (-1), but there must be at least one NUMA node, so returning NUMA node zero\n",
      "2021-07-24 14:43:02.274542: I tensorflow/stream_executor/cuda/cuda_gpu_executor.cc:937] successful NUMA node read from SysFS had negative value (-1), but there must be at least one NUMA node, so returning NUMA node zero\n",
      "2021-07-24 14:43:02.275602: I tensorflow/core/common_runtime/gpu/gpu_device.cc:1871] Adding visible gpu devices: 0\n",
      "2021-07-24 14:43:02.275787: I tensorflow/stream_executor/platform/default/dso_loader.cc:53] Successfully opened dynamic library libcudart.so.11.0\n",
      "2021-07-24 14:43:02.835668: I tensorflow/core/common_runtime/gpu/gpu_device.cc:1258] Device interconnect StreamExecutor with strength 1 edge matrix:\n",
      "2021-07-24 14:43:02.835698: I tensorflow/core/common_runtime/gpu/gpu_device.cc:1264]      0 \n",
      "2021-07-24 14:43:02.835706: I tensorflow/core/common_runtime/gpu/gpu_device.cc:1277] 0:   N \n",
      "2021-07-24 14:43:02.835899: I tensorflow/stream_executor/cuda/cuda_gpu_executor.cc:937] successful NUMA node read from SysFS had negative value (-1), but there must be at least one NUMA node, so returning NUMA node zero\n",
      "2021-07-24 14:43:02.836325: I tensorflow/stream_executor/cuda/cuda_gpu_executor.cc:937] successful NUMA node read from SysFS had negative value (-1), but there must be at least one NUMA node, so returning NUMA node zero\n",
      "2021-07-24 14:43:02.836676: I tensorflow/stream_executor/cuda/cuda_gpu_executor.cc:937] successful NUMA node read from SysFS had negative value (-1), but there must be at least one NUMA node, so returning NUMA node zero\n",
      "2021-07-24 14:43:02.836992: I tensorflow/core/common_runtime/gpu/gpu_device.cc:1418] Created TensorFlow device (/job:localhost/replica:0/task:0/device:GPU:0 with 3401 MB memory) -> physical GPU (device: 0, name: NVIDIA GeForce 940MX, pci bus id: 0000:01:00.0, compute capability: 5.0)\n"
     ]
    }
   ],
   "source": [
    "# load model for testing\n",
    "gc.collect()\n",
    "model = load_model('./models/apple-bi-lstm.model')\n",
    "preprocessing_objects = pickle.load(open('./models/apple-bi-lstm-preprocessing-objects.pkl','rb'))\n",
    "vocab_encoder = preprocessing_objects['vocab_encoder']\n",
    "label_encoder = preprocessing_objects['label_encoder']"
   ]
  },
  {
   "cell_type": "code",
   "execution_count": 5,
   "id": "01177550",
   "metadata": {
    "ExecuteTime": {
     "end_time": "2021-07-24T09:13:11.789438Z",
     "start_time": "2021-07-24T09:13:10.309921Z"
    }
   },
   "outputs": [
    {
     "name": "stderr",
     "output_type": "stream",
     "text": [
      "2021-07-24 14:43:10.362425: I tensorflow/compiler/mlir/mlir_graph_optimization_pass.cc:176] None of the MLIR Optimization Passes are enabled (registered 2)\n",
      "2021-07-24 14:43:10.384164: I tensorflow/core/platform/profile_utils/cpu_utils.cc:114] CPU Frequency: 2699905000 Hz\n",
      "2021-07-24 14:43:10.939342: I tensorflow/stream_executor/platform/default/dso_loader.cc:53] Successfully opened dynamic library libcudnn.so.8\n",
      "2021-07-24 14:43:11.345037: I tensorflow/stream_executor/cuda/cuda_dnn.cc:359] Loaded cuDNN version 8201\n",
      "2021-07-24 14:43:11.420424: I tensorflow/stream_executor/platform/default/dso_loader.cc:53] Successfully opened dynamic library libcublas.so.11\n"
     ]
    },
    {
     "name": "stdout",
     "output_type": "stream",
     "text": [
      "fra\n"
     ]
    },
    {
     "name": "stderr",
     "output_type": "stream",
     "text": [
      "2021-07-24 14:43:11.785506: I tensorflow/stream_executor/platform/default/dso_loader.cc:53] Successfully opened dynamic library libcublasLt.so.11\n"
     ]
    }
   ],
   "source": [
    "# manual testing\n",
    "sentence = 'je vais'\n",
    "vector = text_to_vector(sentence)\n",
    "vector = np.reshape(vector, (1,CHAR_PER_SENTENCE))\n",
    "y_pred = model.predict(vector)\n",
    "y_label = np.argmax(y_pred)\n",
    "y_lang = label_encoder.inverse_transform([y_label])\n",
    "print(y_lang[0])"
   ]
  },
  {
   "cell_type": "code",
   "execution_count": 14,
   "id": "c2097845",
   "metadata": {
    "ExecuteTime": {
     "end_time": "2021-07-24T09:27:28.098979Z",
     "start_time": "2021-07-24T09:27:28.087686Z"
    }
   },
   "outputs": [],
   "source": [
    "def model_output_to_lang(outputs):\n",
    "    labels = np.argmax(outputs,axis=1)\n",
    "    return label_encoder.inverse_transform(labels)"
   ]
  },
  {
   "cell_type": "code",
   "execution_count": 16,
   "id": "ce79ab46",
   "metadata": {
    "ExecuteTime": {
     "end_time": "2021-07-24T09:27:40.151940Z",
     "start_time": "2021-07-24T09:27:40.137012Z"
    }
   },
   "outputs": [],
   "source": [
    "def calculate_cf(my_model, allInput, allTarget):\n",
    "    all_predictions = my_model.predict(allInput)\n",
    "    test_target_lang=model_output_to_lang(allTarget)\n",
    "    test_prediction_lang=model_output_to_lang(all_predictions)\n",
    "    cf = confusion_matrix(test_target_lang,test_prediction_lang,labels=LANGUAGE_LIST)\n",
    "    return cf"
   ]
  },
  {
   "cell_type": "code",
   "execution_count": 22,
   "id": "1998048a",
   "metadata": {
    "ExecuteTime": {
     "end_time": "2021-07-24T09:41:00.154707Z",
     "start_time": "2021-07-24T09:29:46.618581Z"
    }
   },
   "outputs": [
    {
     "name": "stdout",
     "output_type": "stream",
     "text": [
      "6004\n",
      "====================================================================================================100 done\n",
      "====================================================================================================200 done\n",
      "====================================================================================================300 done\n",
      "====================================================================================================400 done\n",
      "====================================================================================================500 done\n",
      "====================================================================================================600 done\n",
      "====================================================================================================700 done\n",
      "====================================================================================================800 done\n",
      "====================================================================================================900 done\n",
      "====================================================================================================1000 done\n",
      "====================================================================================================1100 done\n",
      "====================================================================================================1200 done\n",
      "====================================================================================================1300 done\n",
      "====================================================================================================1400 done\n",
      "====================================================================================================1500 done\n",
      "====================================================================================================1600 done\n",
      "====================================================================================================1700 done\n",
      "====================================================================================================1800 done\n",
      "====================================================================================================1900 done\n",
      "====================================================================================================2000 done\n",
      "====================================================================================================2100 done\n",
      "====================================================================================================2200 done\n",
      "====================================================================================================2300 done\n",
      "====================================================================================================2400 done\n",
      "====================================================================================================2500 done\n",
      "====================================================================================================2600 done\n",
      "====================================================================================================2700 done\n",
      "====================================================================================================2800 done\n",
      "====================================================================================================2900 done\n",
      "====================================================================================================3000 done\n",
      "====================================================================================================3100 done\n",
      "====================================================================================================3200 done\n",
      "====================================================================================================3300 done\n",
      "====================================================================================================3400 done\n",
      "====================================================================================================3500 done\n",
      "====================================================================================================3600 done\n",
      "====================================================================================================3700 done\n",
      "====================================================================================================3800 done\n",
      "====================================================================================================3900 done\n",
      "====================================================================================================4000 done\n",
      "====================================================================================================4100 done\n",
      "====================================================================================================4200 done\n",
      "====================================================================================================4300 done\n",
      "====================================================================================================4400 done\n",
      "====================================================================================================4500 done\n",
      "====================================================================================================4600 done\n",
      "====================================================================================================4700 done\n",
      "====================================================================================================4800 done\n",
      "====================================================================================================4900 done\n",
      "====================================================================================================5000 done\n",
      "====================================================================================================5100 done\n",
      "====================================================================================================5200 done\n",
      "====================================================================================================5300 done\n",
      "====================================================================================================5400 done\n",
      "====================================================================================================5500 done\n",
      "====================================================================================================5600 done\n",
      "====================================================================================================5700 done\n",
      "====================================================================================================5800 done\n",
      "====================================================================================================5900 done\n",
      "====================================================================================================6000 done\n",
      "==="
     ]
    }
   ],
   "source": [
    "dataset_generator = data_generator(df, 100)\n",
    "dataset_steps_per_epoch = len(df) // 100\n",
    "data_input, data_target = next(dataset_generator)\n",
    "cf = calculate_cf(model,data_input,data_target)\n",
    "print(dataset_steps_per_epoch)\n",
    "for i in range(dataset_steps_per_epoch - 1):\n",
    "    print('=',end='')\n",
    "    curr_input,curr_target = next(dataset_generator)\n",
    "    cf += calculate_cf(model,curr_input, curr_target)\n",
    "    if i%100 == 99:\n",
    "        print(\"{0} done\".format(i+1))"
   ]
  },
  {
   "cell_type": "code",
   "execution_count": 25,
   "id": "62ac8ddd",
   "metadata": {
    "ExecuteTime": {
     "end_time": "2021-07-24T09:42:17.173546Z",
     "start_time": "2021-07-24T09:42:17.166982Z"
    }
   },
   "outputs": [
    {
     "name": "stdout",
     "output_type": "stream",
     "text": [
      "600468\n",
      "596701\n",
      "0.006273440050094259\n",
      "3767\n"
     ]
    }
   ],
   "source": [
    "print(np.sum(cf))\n",
    "print(np.trace(cf))\n",
    "print((np.sum(cf) - np.trace(cf))/np.sum(cf))\n",
    "print(np.sum(cf) - np.trace(cf))"
   ]
  },
  {
   "cell_type": "code",
   "execution_count": 24,
   "id": "96767c27",
   "metadata": {
    "ExecuteTime": {
     "end_time": "2021-07-24T09:41:42.548434Z",
     "start_time": "2021-07-24T09:41:41.677934Z"
    }
   },
   "outputs": [
    {
     "data": {
      "image/png": "[encoded data removed]",
      "text/plain": [
       "<Figure size 720x504 with 2 Axes>"
      ]
     },
     "metadata": {
      "needs_background": "light"
     },
     "output_type": "display_data"
    }
   ],
   "source": [
    "cf_df = pd.DataFrame(data=cf,columns=LANGUAGE_LIST,index=LANGUAGE_LIST)\n",
    "plot.figure(figsize = (10,7))\n",
    "sns_plot = sn.heatmap(cf_df, annot=True)\n",
    "sns_plot.figure.savefig('./outputs/apple-bi-lstm.png')"
   ]
  },
  {
   "cell_type": "code",
   "execution_count": null,
   "id": "6a4b1a63",
   "metadata": {},
   "outputs": [],
   "source": []
  }
 ],
 "metadata": {
  "kernelspec": {
   "display_name": "Python 3 (ipykernel)",
   "language": "python",
   "name": "python3"
  },
  "language_info": {
   "codemirror_mode": {
    "name": "ipython",
    "version": 3
   },
   "file_extension": ".py",
   "mimetype": "text/x-python",
   "name": "python",
   "nbconvert_exporter": "python",
   "pygments_lexer": "ipython3",
   "version": "3.8.10"
  },
  "varInspector": {
   "cols": {
    "lenName": 16,
    "lenType": 16,
    "lenVar": 40
   },
   "kernels_config": {
    "python": {
     "delete_cmd_postfix": "",
     "delete_cmd_prefix": "del ",
     "library": "var_list.py",
     "varRefreshCmd": "print(var_dic_list())"
    },
    "r": {
     "delete_cmd_postfix": ") ",
     "delete_cmd_prefix": "rm(",
     "library": "var_list.r",
     "varRefreshCmd": "cat(var_dic_list()) "
    }
   },
   "types_to_exclude": [
    "module",
    "function",
    "builtin_function_or_method",
    "instance",
    "_Feature"
   ],
   "window_display": false
  }
 },
 "nbformat": 4,
 "nbformat_minor": 5
}
