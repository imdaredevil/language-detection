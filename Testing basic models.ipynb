{
 "cells": [
  {
   "cell_type": "code",
   "execution_count": 1,
   "id": "41e9682c",
   "metadata": {
    "ExecuteTime": {
     "end_time": "2021-07-24T15:54:38.941252Z",
     "start_time": "2021-07-24T15:54:34.118121Z"
    }
   },
   "outputs": [
    {
     "name": "stderr",
     "output_type": "stream",
     "text": [
      "2021-07-24 21:24:36.420210: I tensorflow/stream_executor/platform/default/dso_loader.cc:53] Successfully opened dynamic library libcudart.so.11.0\n"
     ]
    }
   ],
   "source": [
    "import pandas as pd \n",
    "import gc\n",
    "from sklearn.feature_extraction.text import CountVectorizer\n",
    "from sklearn.preprocessing import LabelEncoder\n",
    "from keras import Sequential \n",
    "from keras.layers import Dense, InputLayer\n",
    "from keras.utils.np_utils import to_categorical\n",
    "import tensorflow as tf\n",
    "from keras.models import load_model\n",
    "tf.get_logger().setLevel('INFO')\n",
    "tf.compat.v1.logging.set_verbosity('INFO')\n",
    "import numpy as np\n",
    "import pickle\n",
    "from sklearn.metrics import confusion_matrix\n",
    "import matplotlib.pyplot as plot\n",
    "import seaborn as sn"
   ]
  },
  {
   "cell_type": "code",
   "execution_count": 2,
   "id": "b5ce6617",
   "metadata": {
    "ExecuteTime": {
     "end_time": "2021-07-24T15:55:35.444100Z",
     "start_time": "2021-07-24T15:55:34.643846Z"
    }
   },
   "outputs": [],
   "source": [
    "df = pd.read_csv('./dataset/shortened-sentences.csv',  \n",
    "                            index_col=0,\n",
    "                            names=['lang','text'])\n",
    "df.index = [i for i in range(len(df))]\n",
    "# df = pd.read_csv('./dataset/sentences.csv', sep='\\t', \n",
    "#                             encoding='utf8', \n",
    "#                             index_col=0,\n",
    "#                             names=['lang','text'])"
   ]
  },
  {
   "cell_type": "code",
   "execution_count": 3,
   "id": "b747c09e",
   "metadata": {
    "ExecuteTime": {
     "end_time": "2021-07-24T15:55:38.226062Z",
     "start_time": "2021-07-24T15:55:38.213926Z"
    }
   },
   "outputs": [],
   "source": [
    "LanguageList = ['eng','fra', 'spa','ita','deu']\n",
    "ngramLength = 3\n",
    "maxFeatures = 500\n",
    "sentencePerLanguageForVocab = 1000\n",
    "sentencePerLanguageForDataSet = 50000\n",
    "validationSentences = 25000\n",
    "testSentences = 25000"
   ]
  },
  {
   "cell_type": "code",
   "execution_count": 4,
   "id": "8f4d3608",
   "metadata": {
    "ExecuteTime": {
     "end_time": "2021-07-24T15:55:41.339735Z",
     "start_time": "2021-07-24T15:55:41.218825Z"
    }
   },
   "outputs": [],
   "source": [
    "df = df[df['lang'].isin(LanguageList)]"
   ]
  },
  {
   "cell_type": "code",
   "execution_count": 5,
   "id": "9fee2a6e",
   "metadata": {
    "ExecuteTime": {
     "end_time": "2021-07-24T15:56:25.014493Z",
     "start_time": "2021-07-24T15:56:23.584024Z"
    }
   },
   "outputs": [
    {
     "name": "stderr",
     "output_type": "stream",
     "text": [
      "2021-07-24 21:26:23.837159: I tensorflow/stream_executor/platform/default/dso_loader.cc:53] Successfully opened dynamic library libcuda.so.1\n",
      "2021-07-24 21:26:23.908775: I tensorflow/stream_executor/cuda/cuda_gpu_executor.cc:937] successful NUMA node read from SysFS had negative value (-1), but there must be at least one NUMA node, so returning NUMA node zero\n",
      "2021-07-24 21:26:23.910706: I tensorflow/core/common_runtime/gpu/gpu_device.cc:1733] Found device 0 with properties: \n",
      "pciBusID: 0000:01:00.0 name: NVIDIA GeForce 940MX computeCapability: 5.0\n",
      "coreClock: 1.2415GHz coreCount: 3 deviceMemorySize: 3.95GiB deviceMemoryBandwidth: 13.41GiB/s\n",
      "2021-07-24 21:26:23.911009: I tensorflow/stream_executor/platform/default/dso_loader.cc:53] Successfully opened dynamic library libcudart.so.11.0\n",
      "2021-07-24 21:26:24.021945: I tensorflow/stream_executor/platform/default/dso_loader.cc:53] Successfully opened dynamic library libcublas.so.11\n",
      "2021-07-24 21:26:24.022192: I tensorflow/stream_executor/platform/default/dso_loader.cc:53] Successfully opened dynamic library libcublasLt.so.11\n",
      "2021-07-24 21:26:24.063381: I tensorflow/stream_executor/platform/default/dso_loader.cc:53] Successfully opened dynamic library libcufft.so.10\n",
      "2021-07-24 21:26:24.076076: I tensorflow/stream_executor/platform/default/dso_loader.cc:53] Successfully opened dynamic library libcurand.so.10\n",
      "2021-07-24 21:26:24.082042: I tensorflow/stream_executor/platform/default/dso_loader.cc:53] Successfully opened dynamic library libcusolver.so.11\n",
      "2021-07-24 21:26:24.095523: I tensorflow/stream_executor/platform/default/dso_loader.cc:53] Successfully opened dynamic library libcusparse.so.11\n",
      "2021-07-24 21:26:24.103929: I tensorflow/stream_executor/platform/default/dso_loader.cc:53] Successfully opened dynamic library libcudnn.so.8\n",
      "2021-07-24 21:26:24.104449: I tensorflow/stream_executor/cuda/cuda_gpu_executor.cc:937] successful NUMA node read from SysFS had negative value (-1), but there must be at least one NUMA node, so returning NUMA node zero\n",
      "2021-07-24 21:26:24.106725: I tensorflow/stream_executor/cuda/cuda_gpu_executor.cc:937] successful NUMA node read from SysFS had negative value (-1), but there must be at least one NUMA node, so returning NUMA node zero\n",
      "2021-07-24 21:26:24.109237: I tensorflow/core/common_runtime/gpu/gpu_device.cc:1871] Adding visible gpu devices: 0\n",
      "2021-07-24 21:26:24.112232: I tensorflow/core/platform/cpu_feature_guard.cc:142] This TensorFlow binary is optimized with oneAPI Deep Neural Network Library (oneDNN) to use the following CPU instructions in performance-critical operations:  AVX2 FMA\n",
      "To enable them in other operations, rebuild TensorFlow with the appropriate compiler flags.\n",
      "2021-07-24 21:26:24.113776: I tensorflow/stream_executor/cuda/cuda_gpu_executor.cc:937] successful NUMA node read from SysFS had negative value (-1), but there must be at least one NUMA node, so returning NUMA node zero\n",
      "2021-07-24 21:26:24.114690: I tensorflow/core/common_runtime/gpu/gpu_device.cc:1733] Found device 0 with properties: \n",
      "pciBusID: 0000:01:00.0 name: NVIDIA GeForce 940MX computeCapability: 5.0\n",
      "coreClock: 1.2415GHz coreCount: 3 deviceMemorySize: 3.95GiB deviceMemoryBandwidth: 13.41GiB/s\n",
      "2021-07-24 21:26:24.115068: I tensorflow/stream_executor/cuda/cuda_gpu_executor.cc:937] successful NUMA node read from SysFS had negative value (-1), but there must be at least one NUMA node, so returning NUMA node zero\n",
      "2021-07-24 21:26:24.116652: I tensorflow/stream_executor/cuda/cuda_gpu_executor.cc:937] successful NUMA node read from SysFS had negative value (-1), but there must be at least one NUMA node, so returning NUMA node zero\n",
      "2021-07-24 21:26:24.117525: I tensorflow/core/common_runtime/gpu/gpu_device.cc:1871] Adding visible gpu devices: 0\n",
      "2021-07-24 21:26:24.117714: I tensorflow/stream_executor/platform/default/dso_loader.cc:53] Successfully opened dynamic library libcudart.so.11.0\n",
      "2021-07-24 21:26:24.785115: I tensorflow/core/common_runtime/gpu/gpu_device.cc:1258] Device interconnect StreamExecutor with strength 1 edge matrix:\n",
      "2021-07-24 21:26:24.785148: I tensorflow/core/common_runtime/gpu/gpu_device.cc:1264]      0 \n",
      "2021-07-24 21:26:24.785155: I tensorflow/core/common_runtime/gpu/gpu_device.cc:1277] 0:   N \n",
      "2021-07-24 21:26:24.785362: I tensorflow/stream_executor/cuda/cuda_gpu_executor.cc:937] successful NUMA node read from SysFS had negative value (-1), but there must be at least one NUMA node, so returning NUMA node zero\n",
      "2021-07-24 21:26:24.785691: I tensorflow/stream_executor/cuda/cuda_gpu_executor.cc:937] successful NUMA node read from SysFS had negative value (-1), but there must be at least one NUMA node, so returning NUMA node zero\n",
      "2021-07-24 21:26:24.785962: I tensorflow/stream_executor/cuda/cuda_gpu_executor.cc:937] successful NUMA node read from SysFS had negative value (-1), but there must be at least one NUMA node, so returning NUMA node zero\n",
      "2021-07-24 21:26:24.786196: I tensorflow/core/common_runtime/gpu/gpu_device.cc:1418] Created TensorFlow device (/job:localhost/replica:0/task:0/device:GPU:0 with 22 MB memory) -> physical GPU (device: 0, name: NVIDIA GeForce 940MX, pci bus id: 0000:01:00.0, compute capability: 5.0)\n"
     ]
    }
   ],
   "source": [
    "model = load_model('./models/basic-model-shortened-sentence.model')\n",
    "preprocessing_objects = pickle.load(open('./models/basic-model-shortened-sentence-preprocessing-objects.pkl','rb'))\n",
    "word_vectorizer = preprocessing_objects['word_vectorizer']\n",
    "langEncoder = preprocessing_objects['lang_encoder']\n",
    "max_df = preprocessing_objects['max_df']\n",
    "min_df = preprocessing_objects['min_df']\n",
    "feature_names = word_vectorizer.get_feature_names()"
   ]
  },
  {
   "cell_type": "code",
   "execution_count": 6,
   "id": "c09f60d8",
   "metadata": {
    "ExecuteTime": {
     "end_time": "2021-07-24T15:56:32.866471Z",
     "start_time": "2021-07-24T15:56:32.847726Z"
    }
   },
   "outputs": [],
   "source": [
    "def data_generator(dataset, batch_size):\n",
    "    noOfBatches = len(dataset)//batch_size\n",
    "    batches = np.array_split(dataset,noOfBatches)\n",
    "    i = 0\n",
    "    while True:\n",
    "        batch = batches[i]\n",
    "        i += 1\n",
    "        if i == noOfBatches:\n",
    "            i = 0\n",
    "        # getting x\n",
    "        x = word_vectorizer.transform(batch['text'].to_list())\n",
    "        xdf = pd.DataFrame(data=x.toarray(), columns=feature_names)\n",
    "        xdf = (xdf - min_df)/(max_df - min_df)\n",
    "        x_num = xdf.to_numpy()\n",
    "    \n",
    "        # getting y\n",
    "        y = batch['lang'].to_list()\n",
    "        y_enc = langEncoder.transform(y)\n",
    "        y_num = to_categorical(y_enc, num_classes=len(LanguageList))\n",
    "        yield x_num,y_num    "
   ]
  },
  {
   "cell_type": "code",
   "execution_count": 7,
   "id": "b9c93a82",
   "metadata": {
    "ExecuteTime": {
     "end_time": "2021-07-24T15:56:35.512634Z",
     "start_time": "2021-07-24T15:56:35.491928Z"
    }
   },
   "outputs": [
    {
     "name": "stdout",
     "output_type": "stream",
     "text": [
      "6004\n"
     ]
    }
   ],
   "source": [
    "all_generator = data_generator(df, 100)\n",
    "all_steps_per_epoch = len(df)//100\n",
    "print(all_steps_per_epoch)"
   ]
  },
  {
   "cell_type": "code",
   "execution_count": 8,
   "id": "bbda8417",
   "metadata": {
    "ExecuteTime": {
     "end_time": "2021-07-24T15:56:38.125984Z",
     "start_time": "2021-07-24T15:56:38.113084Z"
    }
   },
   "outputs": [],
   "source": [
    "def model_output_to_lang(outputs):\n",
    "    labels = np.argmax(outputs,axis=1)\n",
    "    return langEncoder.inverse_transform(labels)"
   ]
  },
  {
   "cell_type": "code",
   "execution_count": 9,
   "id": "dcf03653",
   "metadata": {
    "ExecuteTime": {
     "end_time": "2021-07-24T15:56:39.653289Z",
     "start_time": "2021-07-24T15:56:39.639847Z"
    }
   },
   "outputs": [],
   "source": [
    "def calculate_cf(my_model, allInput, allTarget):\n",
    "    all_predictions = my_model.predict(allInput)\n",
    "    test_target_lang=model_output_to_lang(allTarget)\n",
    "    test_prediction_lang=model_output_to_lang(all_predictions)\n",
    "    cf = confusion_matrix(test_target_lang,test_prediction_lang,labels=LanguageList)\n",
    "    return cf"
   ]
  },
  {
   "cell_type": "code",
   "execution_count": 10,
   "id": "99eec61c",
   "metadata": {
    "ExecuteTime": {
     "end_time": "2021-07-24T15:56:51.281193Z",
     "start_time": "2021-07-24T15:56:45.225493Z"
    }
   },
   "outputs": [
    {
     "name": "stderr",
     "output_type": "stream",
     "text": [
      "2021-07-24 21:26:46.353503: I tensorflow/compiler/mlir/mlir_graph_optimization_pass.cc:176] None of the MLIR Optimization Passes are enabled (registered 2)\n",
      "2021-07-24 21:26:46.372612: I tensorflow/core/platform/profile_utils/cpu_utils.cc:114] CPU Frequency: 2699905000 Hz\n",
      "2021-07-24 21:26:50.908492: I tensorflow/stream_executor/platform/default/dso_loader.cc:53] Successfully opened dynamic library libcublas.so.11\n",
      "2021-07-24 21:26:51.275250: I tensorflow/stream_executor/platform/default/dso_loader.cc:53] Successfully opened dynamic library libcublasLt.so.11\n"
     ]
    }
   ],
   "source": [
    "tf.get_logger().setLevel('ERROR')\n",
    "tf.compat.v1.logging.set_verbosity('ERROR')\n",
    "tf.autograph.set_verbosity(3)\n",
    "all_input, all_target = next(all_generator)\n",
    "cf = calculate_cf(model,all_input,all_target)"
   ]
  },
  {
   "cell_type": "code",
   "execution_count": 11,
   "id": "71248d1c",
   "metadata": {
    "ExecuteTime": {
     "end_time": "2021-07-24T16:01:27.475522Z",
     "start_time": "2021-07-24T15:56:54.318068Z"
    }
   },
   "outputs": [
    {
     "name": "stdout",
     "output_type": "stream",
     "text": [
      "=0 done\n",
      "====================================================================================================100 done\n",
      "====================================================================================================200 done\n",
      "====================================================================================================300 done\n",
      "====================================================================================================400 done\n",
      "====================================================================================================500 done\n",
      "====================================================================================================600 done\n",
      "====================================================================================================700 done\n",
      "====================================================================================================800 done\n",
      "====================================================================================================900 done\n",
      "====================================================================================================1000 done\n",
      "====================================================================================================1100 done\n",
      "====================================================================================================1200 done\n",
      "====================================================================================================1300 done\n",
      "====================================================================================================1400 done\n",
      "====================================================================================================1500 done\n",
      "====================================================================================================1600 done\n",
      "====================================================================================================1700 done\n",
      "====================================================================================================1800 done\n",
      "====================================================================================================1900 done\n",
      "====================================================================================================2000 done\n",
      "====================================================================================================2100 done\n",
      "====================================================================================================2200 done\n",
      "====================================================================================================2300 done\n",
      "====================================================================================================2400 done\n",
      "====================================================================================================2500 done\n",
      "====================================================================================================2600 done\n",
      "====================================================================================================2700 done\n",
      "====================================================================================================2800 done\n",
      "====================================================================================================2900 done\n",
      "====================================================================================================3000 done\n",
      "====================================================================================================3100 done\n",
      "====================================================================================================3200 done\n",
      "====================================================================================================3300 done\n",
      "====================================================================================================3400 done\n",
      "====================================================================================================3500 done\n",
      "====================================================================================================3600 done\n",
      "====================================================================================================3700 done\n",
      "====================================================================================================3800 done\n",
      "====================================================================================================3900 done\n",
      "====================================================================================================4000 done\n",
      "====================================================================================================4100 done\n",
      "====================================================================================================4200 done\n",
      "====================================================================================================4300 done\n",
      "====================================================================================================4400 done\n",
      "====================================================================================================4500 done\n",
      "====================================================================================================4600 done\n",
      "====================================================================================================4700 done\n",
      "====================================================================================================4800 done\n",
      "====================================================================================================4900 done\n",
      "====================================================================================================5000 done\n",
      "====================================================================================================5100 done\n",
      "====================================================================================================5200 done\n",
      "====================================================================================================5300 done\n",
      "====================================================================================================5400 done\n",
      "====================================================================================================5500 done\n",
      "====================================================================================================5600 done\n",
      "====================================================================================================5700 done\n",
      "====================================================================================================5800 done\n",
      "====================================================================================================5900 done\n",
      "====================================================================================================6000 done\n",
      "=="
     ]
    }
   ],
   "source": [
    "for i in range(all_steps_per_epoch - 1):\n",
    "    print('=',end='')\n",
    "    curr_input,curr_target = next(all_generator)\n",
    "    cf += calculate_cf(model,curr_input, curr_target)\n",
    "    if i%100 == 0:\n",
    "        print(\"{0} done\".format(i))"
   ]
  },
  {
   "cell_type": "code",
   "execution_count": 14,
   "id": "b4ab3c63",
   "metadata": {
    "ExecuteTime": {
     "end_time": "2021-07-24T16:01:45.751891Z",
     "start_time": "2021-07-24T16:01:45.744545Z"
    }
   },
   "outputs": [
    {
     "data": {
      "text/plain": [
       "array([[114161,    688,    370,    374,    690],\n",
       "       [   570, 120211,    774,    833,    771],\n",
       "       [   336,    440, 117020,   1678,    544],\n",
       "       [   202,    207,    690, 105206,    232],\n",
       "       [   805,    313,    244,    274, 132835]])"
      ]
     },
     "execution_count": 14,
     "metadata": {},
     "output_type": "execute_result"
    }
   ],
   "source": [
    "cf"
   ]
  },
  {
   "cell_type": "code",
   "execution_count": 15,
   "id": "2bc409ad",
   "metadata": {
    "ExecuteTime": {
     "end_time": "2021-07-24T16:01:54.693801Z",
     "start_time": "2021-07-24T16:01:54.668765Z"
    }
   },
   "outputs": [
    {
     "name": "stdout",
     "output_type": "stream",
     "text": [
      "600468\n",
      "589433\n",
      "0.018377332347435667\n",
      "11035\n"
     ]
    }
   ],
   "source": [
    "print(np.sum(cf))\n",
    "print(np.trace(cf))\n",
    "print((np.sum(cf) - np.trace(cf))/np.sum(cf))\n",
    "print(np.sum(cf) - np.trace(cf))"
   ]
  },
  {
   "cell_type": "code",
   "execution_count": 16,
   "id": "2374f514",
   "metadata": {
    "ExecuteTime": {
     "end_time": "2021-07-24T16:02:23.304092Z",
     "start_time": "2021-07-24T16:02:22.699253Z"
    }
   },
   "outputs": [
    {
     "data": {
      "image/png": "[encoded data removed]",
      "text/plain": [
       "<Figure size 720x504 with 2 Axes>"
      ]
     },
     "metadata": {
      "needs_background": "light"
     },
     "output_type": "display_data"
    }
   ],
   "source": [
    "cf_df = pd.DataFrame(data=cf,columns=LanguageList,index=LanguageList)\n",
    "plot.figure(figsize = (10,7))\n",
    "sns_plot = sn.heatmap(cf_df, annot=True)"
   ]
  },
  {
   "cell_type": "code",
   "execution_count": 17,
   "id": "841f58cc",
   "metadata": {
    "ExecuteTime": {
     "end_time": "2021-07-24T16:02:41.631638Z",
     "start_time": "2021-07-24T16:02:41.470491Z"
    }
   },
   "outputs": [],
   "source": [
    "sns_plot.figure.savefig('./outputs/basic-model-shortened-sentence.png')"
   ]
  },
  {
   "cell_type": "code",
   "execution_count": null,
   "id": "4d404792",
   "metadata": {},
   "outputs": [],
   "source": []
  }
 ],
 "metadata": {
  "kernelspec": {
   "display_name": "Python 3 (ipykernel)",
   "language": "python",
   "name": "python3"
  },
  "language_info": {
   "codemirror_mode": {
    "name": "ipython",
    "version": 3
   },
   "file_extension": ".py",
   "mimetype": "text/x-python",
   "name": "python",
   "nbconvert_exporter": "python",
   "pygments_lexer": "ipython3",
   "version": "3.8.10"
  },
  "varInspector": {
   "cols": {
    "lenName": 16,
    "lenType": 16,
    "lenVar": 40
   },
   "kernels_config": {
    "python": {
     "delete_cmd_postfix": "",
     "delete_cmd_prefix": "del ",
     "library": "var_list.py",
     "varRefreshCmd": "print(var_dic_list())"
    },
    "r": {
     "delete_cmd_postfix": ") ",
     "delete_cmd_prefix": "rm(",
     "library": "var_list.r",
     "varRefreshCmd": "cat(var_dic_list()) "
    }
   },
   "types_to_exclude": [
    "module",
    "function",
    "builtin_function_or_method",
    "instance",
    "_Feature"
   ],
   "window_display": false
  }
 },
 "nbformat": 4,
 "nbformat_minor": 5
}
